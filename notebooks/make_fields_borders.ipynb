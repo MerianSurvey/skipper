{
 "cells": [
  {
   "cell_type": "code",
   "execution_count": 69,
   "metadata": {},
   "outputs": [],
   "source": [
    "local_data_dir = '/Users/shanydanieli/projects/merian/observing/data/'"
   ]
  },
  {
   "cell_type": "code",
   "execution_count": 70,
   "metadata": {},
   "outputs": [],
   "source": [
    "import numpy as np\n",
    "import healpy as hp\n",
    "\n",
    "import matplotlib.pyplot as plt\n",
    "from matplotlib import patches\n",
    "\n",
    "from astropy import coordinates\n",
    "from astropy import units as u\n",
    "from astropy.io import fits\n",
    "\n",
    "from shapely import geometry\n",
    "from shapely.ops import unary_union\n",
    "from shapely.geometry import Point\n",
    "from descartes.patch import PolygonPatch\n",
    "\n",
    "from skipper import shape, hsc"
   ]
  },
  {
   "cell_type": "code",
   "execution_count": 71,
   "metadata": {},
   "outputs": [],
   "source": [
    "import warnings\n",
    "warnings.filterwarnings('ignore')"
   ]
  },
  {
   "cell_type": "code",
   "execution_count": 72,
   "metadata": {},
   "outputs": [],
   "source": [
    "def get_concave_shape(ra, dec, ralow, raup, alpha):\n",
    "    ra_chosen = [x for x in ra if ralow<x<raup]\n",
    "    dec_chosen = [dec[i] for i in range(len(dec)) if ralow<ra[i]<raup]\n",
    "    coor = np.vstack((ra_chosen,dec_chosen)).T\n",
    "    field_edges = shape.concave_hull(coor, alpha=alpha)\n",
    "    return field_edges"
   ]
  },
  {
   "cell_type": "markdown",
   "metadata": {},
   "source": [
    "## Generate and save the HSC-SSP S18A and S20A covered fields borders"
   ]
  },
  {
   "cell_type": "markdown",
   "metadata": {},
   "source": [
    "### HSC-SSP PDR2 (S18A)"
   ]
  },
  {
   "cell_type": "code",
   "execution_count": 73,
   "metadata": {},
   "outputs": [
    {
     "name": "stdout",
     "output_type": "stream",
     "text": [
      "# 11127341/42406457 objects are selected by the mask\n"
     ]
    }
   ],
   "source": [
    "# read the healpy map of the S18A data release\n",
    "mask = hp.read_map(local_data_dir+'s18a_fdfc_hp_contarea.fits', nest=True, dtype = np.bool)\n",
    "indices_map = np.where(mask)[0]\n",
    "nside = hp.get_nside(mask)\n",
    "\n",
    "# read the random catalog in the i-band only\n",
    "hdul = fits.open(local_data_dir+'/merian_random_iband_only_1.fits')\n",
    "randoms_data = hdul[1].data\n",
    "\n",
    "filtered_catalog = hsc.filter_healpix_mask(mask,randoms_data)\n",
    "ra_s18a = filtered_catalog['ra']\n",
    "dec_s18a = filtered_catalog['dec']\n"
   ]
  },
  {
   "cell_type": "markdown",
   "metadata": {},
   "source": [
    "### GAMA09 and GAMA12 fields, both available during the Spring observing run"
   ]
  },
  {
   "cell_type": "code",
   "execution_count": 77,
   "metadata": {},
   "outputs": [],
   "source": [
    "alpha = 1\n",
    "\n",
    "# gama09_edges_S18A = get_concave_shape(ra_s18a, dec_s18a, 120, 160, alpha=alpha)\n",
    "# np.savetxt('../data/gama09_edges_S18A.dat', gama09_edges_S18A)\n",
    "# gama12_edges_S18A = get_concave_shape(ra_s18a, dec_s18a, 161, 200, alpha=alpha)\n",
    "# np.savetxt('../data/gama12_edges_S18A.dat', gama12_edges_S18A)\n",
    "gama15_edges_S18A = get_concave_shape(ra_s18a, dec_s18a, 201, 250, alpha=alpha)\n",
    "np.savetxt('../data/gama15_edges_S18A.dat', gama15_edges_S18A)\n",
    "\n",
    "\n",
    "\n"
   ]
  },
  {
   "cell_type": "markdown",
   "metadata": {},
   "source": [
    "### HSC-SSP S20A"
   ]
  },
  {
   "cell_type": "code",
   "execution_count": 74,
   "metadata": {},
   "outputs": [
    {
     "name": "stdout",
     "output_type": "stream",
     "text": [
      "# 19827548/42406457 objects are selected by the mask\n"
     ]
    }
   ],
   "source": [
    "HSC_S20_fdfc = hp.read_map('../data/s20a_fdfc_hp_contarea_izy-gt-5.fits', nest=True, dtype=np.bool)\n",
    "filtered_catalog = hsc.filter_healpix_mask(HSC_S20_fdfc,randoms_data)\n",
    "ra_s20a = filtered_catalog['ra']\n",
    "dec_s20a = filtered_catalog['dec']"
   ]
  },
  {
   "cell_type": "code",
   "execution_count": 75,
   "metadata": {},
   "outputs": [],
   "source": [
    "# gama09_edges_S20A = get_concave_shape(ra_s20a, dec_s20a, 120, 153, alpha=alpha)\n",
    "# np.savetxt('../data/gama09_edges_S20A.dat', gama09_edges_S20A)\n",
    "\n",
    "# all of the G09, G12, and G15 fields\n",
    "gama_edges_S20A = get_concave_shape(ra_s20a, dec_s20a, 120, 250, alpha=alpha)\n",
    "np.savetxt('../data/gama_edges_S20A.dat', gama_edges_S20A)"
   ]
  },
  {
   "cell_type": "code",
   "execution_count": null,
   "metadata": {},
   "outputs": [],
   "source": []
  },
  {
   "cell_type": "code",
   "execution_count": 67,
   "metadata": {},
   "outputs": [
    {
     "data": {
      "text/plain": [
       "<matplotlib.collections.PathCollection at 0x7fac58b61810>"
      ]
     },
     "execution_count": 67,
     "metadata": {},
     "output_type": "execute_result"
    },
    {
     "data": {
      "image/png": "[encoded data removed]",
      "text/plain": [
       "<Figure size 432x288 with 1 Axes>"
      ]
     },
     "metadata": {
      "needs_background": "light"
     },
     "output_type": "display_data"
    }
   ],
   "source": [
    "plt.scatter(ra_s20a,dec_s20a)"
   ]
  },
  {
   "cell_type": "code",
   "execution_count": 68,
   "metadata": {},
   "outputs": [
    {
     "data": {
      "text/plain": [
       "<matplotlib.collections.PathCollection at 0x7fab616017d0>"
      ]
     },
     "execution_count": 68,
     "metadata": {},
     "output_type": "execute_result"
    },
    {
     "data": {
      "image/png": "[encoded data removed]",
      "text/plain": [
       "<Figure size 432x288 with 1 Axes>"
      ]
     },
     "metadata": {
      "needs_background": "light"
     },
     "output_type": "display_data"
    }
   ],
   "source": [
    "plt.scatter(ra_s18a,dec_s18a)"
   ]
  },
  {
   "cell_type": "code",
   "execution_count": null,
   "metadata": {},
   "outputs": [],
   "source": []
  }
 ],
 "metadata": {
  "kernelspec": {
   "display_name": "Python 3",
   "language": "python",
   "name": "python3"
  },
  "language_info": {
   "codemirror_mode": {
    "name": "ipython",
    "version": 3
   },
   "file_extension": ".py",
   "mimetype": "text/x-python",
   "name": "python",
   "nbconvert_exporter": "python",
   "pygments_lexer": "ipython3",
   "version": "3.7.0"
  }
 },
 "nbformat": 4,
 "nbformat_minor": 4
}
