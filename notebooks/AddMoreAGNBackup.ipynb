{
 "cells": [
  {
   "cell_type": "markdown",
   "id": "a973e3b0-a4e1-44fe-91f2-39d15baf6f26",
   "metadata": {},
   "source": [
    "Add more AGN as back-up fields"
   ]
  },
  {
   "cell_type": "code",
   "execution_count": 1,
   "id": "2c13e4be-5d9a-420d-be45-2da26829bfd2",
   "metadata": {},
   "outputs": [],
   "source": [
    "%load_ext autoreload\n",
    "%autoreload 2"
   ]
  },
  {
   "cell_type": "code",
   "execution_count": 2,
   "id": "d2a3bbdd-73df-405d-9715-41aff6090df6",
   "metadata": {},
   "outputs": [],
   "source": [
    "import os\n",
    "import string\n",
    "import numpy as np\n",
    "import matplotlib.pyplot as plt\n",
    "import pandas as pd"
   ]
  },
  {
   "cell_type": "code",
   "execution_count": 3,
   "id": "2bd66fb5-e666-4185-be26-7f0402cb4e97",
   "metadata": {},
   "outputs": [],
   "source": [
    "import sys\n",
    "sys.path.append('../scripts/')\n",
    "import make_pointings"
   ]
  },
  {
   "cell_type": "code",
   "execution_count": 4,
   "id": "ea299349-ac39-4334-8e6c-d3d8e7e86058",
   "metadata": {},
   "outputs": [],
   "source": [
    "def get_telenumber ( x ):\n",
    "    '''\n",
    "    Map letters onto numbers using the T9 mapping. I never noticed\n",
    "    before that it's actually not a consistent binning ... \n",
    "    '''\n",
    "    letter_index = string.ascii_lowercase.index(x.lower())\n",
    "    #print(letter_index)\n",
    "    analogous_number = int(np.ceil((letter_index+1) / 3)) + 1\n",
    "    if analogous_number<7:\n",
    "        return analogous_number\n",
    "    else:\n",
    "        if letter_index<=18:\n",
    "            return 7\n",
    "        elif letter_index>=22:\n",
    "            return 9\n",
    "        else:\n",
    "            return 8"
   ]
  },
  {
   "cell_type": "code",
   "execution_count": 5,
   "id": "79ebb46e-c1f4-4ff4-a441-1e6fe7f3885d",
   "metadata": {},
   "outputs": [],
   "source": [
    "seed_name = 'BUGS'\n",
    "seed_name = 'NEWNAME'\n",
    "seed = int(''.join([ str(get_telenumber(x)) for x in seed_name ]))"
   ]
  },
  {
   "cell_type": "code",
   "execution_count": 6,
   "id": "963ab0c7-1d29-45bc-8fd1-46c0c1bf0814",
   "metadata": {},
   "outputs": [],
   "source": [
    "agn_catalog = pd.read_csv('../data/GAMA_LowMass.txt', delim_whitespace=True, comment='#', index_col=0)"
   ]
  },
  {
   "cell_type": "code",
   "execution_count": 13,
   "id": "a2eb2d30-2600-4056-9437-50e046e27bb7",
   "metadata": {},
   "outputs": [
    {
     "data": {
      "text/html": [
       "<div>\n",
       "<style scoped>\n",
       "    .dataframe tbody tr th:only-of-type {\n",
       "        vertical-align: middle;\n",
       "    }\n",
       "\n",
       "    .dataframe tbody tr th {\n",
       "        vertical-align: top;\n",
       "    }\n",
       "\n",
       "    .dataframe thead th {\n",
       "        text-align: right;\n",
       "    }\n",
       "</style>\n",
       "<table border=\"1\" class=\"dataframe\">\n",
       "  <thead>\n",
       "    <tr style=\"text-align: right;\">\n",
       "      <th></th>\n",
       "      <th>RA</th>\n",
       "      <th>Dec</th>\n",
       "      <th>BPT_Type</th>\n",
       "      <th>z</th>\n",
       "      <th>logMbh</th>\n",
       "    </tr>\n",
       "    <tr>\n",
       "      <th>GAMAID</th>\n",
       "      <th></th>\n",
       "      <th></th>\n",
       "      <th></th>\n",
       "      <th></th>\n",
       "      <th></th>\n",
       "    </tr>\n",
       "  </thead>\n",
       "  <tbody>\n",
       "    <tr>\n",
       "      <th>5220386</th>\n",
       "      <td>341.484003</td>\n",
       "      <td>-34.601224</td>\n",
       "      <td>AGN</td>\n",
       "      <td>0.27908</td>\n",
       "      <td>7.7</td>\n",
       "    </tr>\n",
       "    <tr>\n",
       "      <th>5275222</th>\n",
       "      <td>345.355121</td>\n",
       "      <td>-34.211354</td>\n",
       "      <td>AGN</td>\n",
       "      <td>0.21019</td>\n",
       "      <td>7.3</td>\n",
       "    </tr>\n",
       "    <tr>\n",
       "      <th>5265117</th>\n",
       "      <td>344.603066</td>\n",
       "      <td>-31.236629</td>\n",
       "      <td>AGN</td>\n",
       "      <td>0.11947</td>\n",
       "      <td>6.0</td>\n",
       "    </tr>\n",
       "    <tr>\n",
       "      <th>5240292</th>\n",
       "      <td>343.268841</td>\n",
       "      <td>-33.977244</td>\n",
       "      <td>AGN</td>\n",
       "      <td>0.22370</td>\n",
       "      <td>7.5</td>\n",
       "    </tr>\n",
       "    <tr>\n",
       "      <th>5247018</th>\n",
       "      <td>344.079748</td>\n",
       "      <td>-30.821977</td>\n",
       "      <td>AGN</td>\n",
       "      <td>0.20899</td>\n",
       "      <td>7.2</td>\n",
       "    </tr>\n",
       "  </tbody>\n",
       "</table>\n",
       "</div>"
      ],
      "text/plain": [
       "                 RA        Dec BPT_Type        z  logMbh\n",
       "GAMAID                                                  \n",
       "5220386  341.484003 -34.601224      AGN  0.27908     7.7\n",
       "5275222  345.355121 -34.211354      AGN  0.21019     7.3\n",
       "5265117  344.603066 -31.236629      AGN  0.11947     6.0\n",
       "5240292  343.268841 -33.977244      AGN  0.22370     7.5\n",
       "5247018  344.079748 -30.821977      AGN  0.20899     7.2"
      ]
     },
     "execution_count": 13,
     "metadata": {},
     "output_type": "execute_result"
    }
   ],
   "source": [
    "agn_catalog.head ()"
   ]
  },
  {
   "cell_type": "code",
   "execution_count": 17,
   "id": "04db0399-cd01-419d-a6ef-3f257bdc6266",
   "metadata": {},
   "outputs": [],
   "source": [
    "additional = pd.DataFrame ( index=['GH14','NSA15235'], \n",
    "                            columns = ['RA','Dec'] )\n",
    "additional.loc['GH14'] = [218.7602428281,3.60239024]\n",
    "additional.loc['NSA15235'] = [220.1022190311,2.752650365]"
   ]
  },
  {
   "cell_type": "code",
   "execution_count": 21,
   "id": "df6a9223-e9ae-4332-bd50-51a70e8b804f",
   "metadata": {},
   "outputs": [],
   "source": [
    "additional.to_csv('../data/additional.txt', sep=' ')"
   ]
  },
  {
   "cell_type": "code",
   "execution_count": 26,
   "id": "5d8f825f-96f3-45c3-89a1-e3ff32cfe654",
   "metadata": {
    "tags": []
   },
   "outputs": [
    {
     "name": "stdout",
     "output_type": "stream",
     "text": [
      "GH14\n",
      "../json/backup_scripts/GH14/90sec/GH14_90secAGN_g_21.json\n",
      "../json/backup_scripts/GH14/90sec/GH14_90secAGN_g_22.json\n",
      "../json/backup_scripts/GH14/90sec/GH14_90secAGN_g_23.json\n",
      "../json/backup_scripts/GH14/90sec/GH14_90secAGN_g_24.json\n",
      "../json/backup_scripts/GH14/90sec/GH14_90secAGN_g_25.json\n",
      "../json/backup_scripts/GH14/90sec/GH14_90secAGN_g_26.json\n",
      "../json/backup_scripts/GH14/90sec/GH14_90secAGN_g_27.json\n",
      "../json/backup_scripts/GH14/90sec/GH14_90secAGN_g_28.json\n",
      "../json/backup_scripts/GH14/90sec/GH14_90secAGN_g_29.json\n",
      "../json/backup_scripts/GH14/90sec/GH14_90secAGN_g_30.json\n",
      "../json/backup_scripts/GH14/90sec/GH14_90secAGN_g_31.json\n",
      "../json/backup_scripts/GH14/90sec/GH14_90secAGN_g_32.json\n",
      "../json/backup_scripts/GH14/90sec/GH14_90secAGN_g_33.json\n",
      "../json/backup_scripts/GH14/90sec/GH14_90secAGN_g_34.json\n",
      "../json/backup_scripts/GH14/90sec/GH14_90secAGN_g_35.json\n",
      "../json/backup_scripts/GH14/90sec/GH14_90secAGN_g_36.json\n",
      "../json/backup_scripts/GH14/90sec/GH14_90secAGN_g_37.json\n",
      "../json/backup_scripts/GH14/90sec/GH14_90secAGN_g_38.json\n",
      "../json/backup_scripts/GH14/90sec/GH14_90secAGN_g_39.json\n",
      "../json/backup_scripts/GH14/90sec/GH14_90secAGN_g_40.json\n",
      "GH14\n",
      "../json/backup_scripts/GH14/90sec/GH14_90secAGN_r_21.json\n",
      "../json/backup_scripts/GH14/90sec/GH14_90secAGN_r_22.json\n",
      "../json/backup_scripts/GH14/90sec/GH14_90secAGN_r_23.json\n",
      "../json/backup_scripts/GH14/90sec/GH14_90secAGN_r_24.json\n",
      "../json/backup_scripts/GH14/90sec/GH14_90secAGN_r_25.json\n",
      "../json/backup_scripts/GH14/90sec/GH14_90secAGN_r_26.json\n",
      "../json/backup_scripts/GH14/90sec/GH14_90secAGN_r_27.json\n",
      "../json/backup_scripts/GH14/90sec/GH14_90secAGN_r_28.json\n",
      "../json/backup_scripts/GH14/90sec/GH14_90secAGN_r_29.json\n",
      "../json/backup_scripts/GH14/90sec/GH14_90secAGN_r_30.json\n",
      "../json/backup_scripts/GH14/90sec/GH14_90secAGN_r_31.json\n",
      "../json/backup_scripts/GH14/90sec/GH14_90secAGN_r_32.json\n",
      "../json/backup_scripts/GH14/90sec/GH14_90secAGN_r_33.json\n",
      "../json/backup_scripts/GH14/90sec/GH14_90secAGN_r_34.json\n",
      "../json/backup_scripts/GH14/90sec/GH14_90secAGN_r_35.json\n",
      "../json/backup_scripts/GH14/90sec/GH14_90secAGN_r_36.json\n",
      "../json/backup_scripts/GH14/90sec/GH14_90secAGN_r_37.json\n",
      "../json/backup_scripts/GH14/90sec/GH14_90secAGN_r_38.json\n",
      "../json/backup_scripts/GH14/90sec/GH14_90secAGN_r_39.json\n",
      "../json/backup_scripts/GH14/90sec/GH14_90secAGN_r_40.json\n",
      "NSA15235\n",
      "../json/backup_scripts/NSA15235/90sec/NSA15235_90secAGN_g_21.json\n",
      "../json/backup_scripts/NSA15235/90sec/NSA15235_90secAGN_g_22.json\n",
      "../json/backup_scripts/NSA15235/90sec/NSA15235_90secAGN_g_23.json\n",
      "../json/backup_scripts/NSA15235/90sec/NSA15235_90secAGN_g_24.json\n",
      "../json/backup_scripts/NSA15235/90sec/NSA15235_90secAGN_g_25.json\n",
      "../json/backup_scripts/NSA15235/90sec/NSA15235_90secAGN_g_26.json\n",
      "../json/backup_scripts/NSA15235/90sec/NSA15235_90secAGN_g_27.json\n",
      "../json/backup_scripts/NSA15235/90sec/NSA15235_90secAGN_g_28.json\n",
      "../json/backup_scripts/NSA15235/90sec/NSA15235_90secAGN_g_29.json\n",
      "../json/backup_scripts/NSA15235/90sec/NSA15235_90secAGN_g_30.json\n",
      "../json/backup_scripts/NSA15235/90sec/NSA15235_90secAGN_g_31.json\n",
      "../json/backup_scripts/NSA15235/90sec/NSA15235_90secAGN_g_32.json\n",
      "../json/backup_scripts/NSA15235/90sec/NSA15235_90secAGN_g_33.json\n",
      "../json/backup_scripts/NSA15235/90sec/NSA15235_90secAGN_g_34.json\n",
      "../json/backup_scripts/NSA15235/90sec/NSA15235_90secAGN_g_35.json\n",
      "../json/backup_scripts/NSA15235/90sec/NSA15235_90secAGN_g_36.json\n",
      "../json/backup_scripts/NSA15235/90sec/NSA15235_90secAGN_g_37.json\n",
      "../json/backup_scripts/NSA15235/90sec/NSA15235_90secAGN_g_38.json\n",
      "../json/backup_scripts/NSA15235/90sec/NSA15235_90secAGN_g_39.json\n",
      "../json/backup_scripts/NSA15235/90sec/NSA15235_90secAGN_g_40.json\n",
      "NSA15235\n",
      "../json/backup_scripts/NSA15235/90sec/NSA15235_90secAGN_r_21.json\n",
      "../json/backup_scripts/NSA15235/90sec/NSA15235_90secAGN_r_22.json\n",
      "../json/backup_scripts/NSA15235/90sec/NSA15235_90secAGN_r_23.json\n",
      "../json/backup_scripts/NSA15235/90sec/NSA15235_90secAGN_r_24.json\n",
      "../json/backup_scripts/NSA15235/90sec/NSA15235_90secAGN_r_25.json\n",
      "../json/backup_scripts/NSA15235/90sec/NSA15235_90secAGN_r_26.json\n",
      "../json/backup_scripts/NSA15235/90sec/NSA15235_90secAGN_r_27.json\n",
      "../json/backup_scripts/NSA15235/90sec/NSA15235_90secAGN_r_28.json\n",
      "../json/backup_scripts/NSA15235/90sec/NSA15235_90secAGN_r_29.json\n",
      "../json/backup_scripts/NSA15235/90sec/NSA15235_90secAGN_r_30.json\n",
      "../json/backup_scripts/NSA15235/90sec/NSA15235_90secAGN_r_31.json\n",
      "../json/backup_scripts/NSA15235/90sec/NSA15235_90secAGN_r_32.json\n",
      "../json/backup_scripts/NSA15235/90sec/NSA15235_90secAGN_r_33.json\n",
      "../json/backup_scripts/NSA15235/90sec/NSA15235_90secAGN_r_34.json\n",
      "../json/backup_scripts/NSA15235/90sec/NSA15235_90secAGN_r_35.json\n",
      "../json/backup_scripts/NSA15235/90sec/NSA15235_90secAGN_r_36.json\n",
      "../json/backup_scripts/NSA15235/90sec/NSA15235_90secAGN_r_37.json\n",
      "../json/backup_scripts/NSA15235/90sec/NSA15235_90secAGN_r_38.json\n",
      "../json/backup_scripts/NSA15235/90sec/NSA15235_90secAGN_r_39.json\n",
      "../json/backup_scripts/NSA15235/90sec/NSA15235_90secAGN_r_40.json\n"
     ]
    }
   ],
   "source": [
    "exptime_sd = {5:'5min', 1.5:'90sec'}\n",
    "exptime = 1.5\n",
    "exptime_s = exptime_sd[exptime]\n",
    "base_index = 20\n",
    "seed_l = np.arange(20)\n",
    "catalog = additional\n",
    "catalog_name ='additional' # GAMA_LowMass\n",
    "\n",
    "for index in range(len(catalog.index)):\n",
    "    for bandpass in ['g','r']:    \n",
    "        objid = catalog.index[index]\n",
    "        if catalog_name == 'additional':\n",
    "            objname = objid\n",
    "        else:\n",
    "            objname = f'GAMA{objid}'\n",
    "        # \\\\ make new backup directory if not exists\n",
    "        if not os.path.exists ( f'../json/backup_scripts/{objname}/{exptime_s}'):\n",
    "            os.makedirs ( f'../json/backup_scripts/{objname}/{exptime_s}', )\n",
    "        print(objid)\n",
    "        catalog_l, ocat, frd_l = make_pointings.build_SOAGN ( objid, f'../data/{catalog_name}.txt',\n",
    "                                                              name = objname,\n",
    "                                                              seqid='2022B',\n",
    "                                                              exptime=exptime,\n",
    "                                                              seed_l=seed_l, filter=bandpass, \n",
    "                                                              start_at_center=True )\n",
    "\n",
    "        for script_index in range(len(catalog_l)):\n",
    "            json_name = f'../json/backup_scripts/{objname}/{exptime_s}/'\n",
    "            json_name = f\"{json_name}{objname}_{exptime_s}\"\n",
    "            json_name = f\"{json_name}AGN_{bandpass}_{script_index+1+base_index:02d}.json\"\n",
    "            print(json_name)\n",
    "            ocat.to_json ( catalog_l[script_index], fp=json_name, end_with_onemin=False, verbose=False )"
   ]
  },
  {
   "cell_type": "code",
   "execution_count": 6,
   "id": "ca38612a-3d5c-4da2-9e0f-5676cbf9d395",
   "metadata": {},
   "outputs": [],
   "source": [
    "from matplotlib import patches"
   ]
  },
  {
   "cell_type": "code",
   "execution_count": 7,
   "id": "f4d031c3-14c8-466d-a881-c5a1beac1d34",
   "metadata": {},
   "outputs": [],
   "source": [
    "newbak = pd.read_json('../json/backup_scripts/GAMA5265117/5min/GAMA5265117_5minAGN_g_01.json')"
   ]
  },
  {
   "cell_type": "code",
   "execution_count": 9,
   "id": "1bfb6910-1567-4072-8de0-68132dee3dbe",
   "metadata": {},
   "outputs": [
    {
     "data": {
      "text/plain": [
       "comment     OneMinuteFocusExposure\n",
       "filter                           g\n",
       "seqtot                          13\n",
       "seqnum                           1\n",
       "seqid                        2022B\n",
       "expType                     object\n",
       "object                 1minexp_000\n",
       "proposer                 Leauthaud\n",
       "program                     Merian\n",
       "RA                      344.603066\n",
       "propid                  2020B-0288\n",
       "dec                     -31.236629\n",
       "expTime                         60\n",
       "count                            1\n",
       "wait                         False\n",
       "Name: 0, dtype: object"
      ]
     },
     "execution_count": 9,
     "metadata": {},
     "output_type": "execute_result"
    }
   ],
   "source": [
    "row\n"
   ]
  },
  {
   "cell_type": "code",
   "execution_count": 14,
   "id": "a5cf0bdc-7d9d-4178-b403-0b420b4d5ca6",
   "metadata": {},
   "outputs": [
    {
     "data": {
      "text/html": [
       "<div>\n",
       "<style scoped>\n",
       "    .dataframe tbody tr th:only-of-type {\n",
       "        vertical-align: middle;\n",
       "    }\n",
       "\n",
       "    .dataframe tbody tr th {\n",
       "        vertical-align: top;\n",
       "    }\n",
       "\n",
       "    .dataframe thead th {\n",
       "        text-align: right;\n",
       "    }\n",
       "</style>\n",
       "<table border=\"1\" class=\"dataframe\">\n",
       "  <thead>\n",
       "    <tr style=\"text-align: right;\">\n",
       "      <th></th>\n",
       "      <th>RA</th>\n",
       "      <th>Dec</th>\n",
       "      <th>BPT_Type</th>\n",
       "      <th>z</th>\n",
       "      <th>logMbh</th>\n",
       "    </tr>\n",
       "    <tr>\n",
       "      <th>GAMAID</th>\n",
       "      <th></th>\n",
       "      <th></th>\n",
       "      <th></th>\n",
       "      <th></th>\n",
       "      <th></th>\n",
       "    </tr>\n",
       "  </thead>\n",
       "  <tbody>\n",
       "    <tr>\n",
       "      <th>5220386</th>\n",
       "      <td>341.484003</td>\n",
       "      <td>-34.601224</td>\n",
       "      <td>AGN</td>\n",
       "      <td>0.27908</td>\n",
       "      <td>7.7</td>\n",
       "    </tr>\n",
       "    <tr>\n",
       "      <th>5275222</th>\n",
       "      <td>345.355121</td>\n",
       "      <td>-34.211354</td>\n",
       "      <td>AGN</td>\n",
       "      <td>0.21019</td>\n",
       "      <td>7.3</td>\n",
       "    </tr>\n",
       "    <tr>\n",
       "      <th>5265117</th>\n",
       "      <td>344.603066</td>\n",
       "      <td>-31.236629</td>\n",
       "      <td>AGN</td>\n",
       "      <td>0.11947</td>\n",
       "      <td>6.0</td>\n",
       "    </tr>\n",
       "    <tr>\n",
       "      <th>5240292</th>\n",
       "      <td>343.268841</td>\n",
       "      <td>-33.977244</td>\n",
       "      <td>AGN</td>\n",
       "      <td>0.22370</td>\n",
       "      <td>7.5</td>\n",
       "    </tr>\n",
       "    <tr>\n",
       "      <th>5247018</th>\n",
       "      <td>344.079748</td>\n",
       "      <td>-30.821977</td>\n",
       "      <td>AGN</td>\n",
       "      <td>0.20899</td>\n",
       "      <td>7.2</td>\n",
       "    </tr>\n",
       "    <tr>\n",
       "      <th>5266552</th>\n",
       "      <td>344.307857</td>\n",
       "      <td>-30.938767</td>\n",
       "      <td>Comp</td>\n",
       "      <td>0.22175</td>\n",
       "      <td>6.0</td>\n",
       "    </tr>\n",
       "    <tr>\n",
       "      <th>5337331</th>\n",
       "      <td>349.009578</td>\n",
       "      <td>-34.231887</td>\n",
       "      <td>Comp</td>\n",
       "      <td>0.20193</td>\n",
       "      <td>6.2</td>\n",
       "    </tr>\n",
       "    <tr>\n",
       "      <th>5197149</th>\n",
       "      <td>339.824962</td>\n",
       "      <td>-34.050653</td>\n",
       "      <td>Comp</td>\n",
       "      <td>0.20749</td>\n",
       "      <td>6.8</td>\n",
       "    </tr>\n",
       "  </tbody>\n",
       "</table>\n",
       "</div>"
      ],
      "text/plain": [
       "                 RA        Dec BPT_Type        z  logMbh\n",
       "GAMAID                                                  \n",
       "5220386  341.484003 -34.601224      AGN  0.27908     7.7\n",
       "5275222  345.355121 -34.211354      AGN  0.21019     7.3\n",
       "5265117  344.603066 -31.236629      AGN  0.11947     6.0\n",
       "5240292  343.268841 -33.977244      AGN  0.22370     7.5\n",
       "5247018  344.079748 -30.821977      AGN  0.20899     7.2\n",
       "5266552  344.307857 -30.938767     Comp  0.22175     6.0\n",
       "5337331  349.009578 -34.231887     Comp  0.20193     6.2\n",
       "5197149  339.824962 -34.050653     Comp  0.20749     6.8"
      ]
     },
     "execution_count": 14,
     "metadata": {},
     "output_type": "execute_result"
    }
   ],
   "source": [
    "agn_catalog"
   ]
  },
  {
   "cell_type": "code",
   "execution_count": 15,
   "id": "50d7cdf2-302b-4c7f-8d10-d2fb3e8b9801",
   "metadata": {},
   "outputs": [
    {
     "data": {
      "text/plain": [
       "<matplotlib.collections.PathCollection at 0x1731b1870>"
      ]
     },
     "execution_count": 15,
     "metadata": {},
     "output_type": "execute_result"
    },
    {
     "data": {
      "image/png": "[encoded data removed]",
      "text/plain": [
       "<Figure size 640x480 with 1 Axes>"
      ]
     },
     "metadata": {},
     "output_type": "display_data"
    }
   ],
   "source": [
    "ax = plt.subplot(111)\n",
    "for name, row in newbak.iterrows ():\n",
    "    circ = patches.Circle ( (row['RA'], row['dec']), radius=1.1, facecolor='None', edgecolor='k' )\n",
    "    ax.add_patch ( circ )\n",
    "idx = 5265117\n",
    "ax.scatter ( agn_catalog.loc[idx, 'RA'], agn_catalog.loc[idx, 'Dec'], )"
   ]
  },
  {
   "cell_type": "code",
   "execution_count": 111,
   "id": "78b0662b-3b03-4ccf-8b67-51450f0117ee",
   "metadata": {
    "tags": []
   },
   "outputs": [
    {
     "name": "stdout",
     "output_type": "stream",
     "text": [
      "'GAMA5220386':coordinates.SkyCoord(341.4840027,-34.6012237,unit='deg'),\n",
      "'GAMA5275222':coordinates.SkyCoord(345.3551208,-34.2113545,unit='deg'),\n",
      "'GAMA5265117':coordinates.SkyCoord(344.6030656,-31.2366291,unit='deg'),\n",
      "'GAMA5240292':coordinates.SkyCoord(343.2688411,-33.9772443,unit='deg'),\n",
      "'GAMA5247018':coordinates.SkyCoord(344.079748,-30.8219773,unit='deg'),\n",
      "'GAMA5266552':coordinates.SkyCoord(344.3078567,-30.9387669,unit='deg'),\n",
      "'GAMA5337331':coordinates.SkyCoord(349.0095776,-34.2318865,unit='deg'),\n",
      "'GAMA5197149':coordinates.SkyCoord(339.824962,-34.0506528,unit='deg'),\n"
     ]
    }
   ],
   "source": [
    "for name, row in agn_catalog.iterrows():\n",
    "    objname = f'GAMA{name}'\n",
    "    ra = row['RA']\n",
    "    dec = row['Dec']\n",
    "    print(f\"'{objname}':coordinates.SkyCoord({ra},{dec},unit='deg'),\")"
   ]
  },
  {
   "cell_type": "code",
   "execution_count": 109,
   "id": "c6842502-1b7f-4619-b438-d6594f3aa035",
   "metadata": {},
   "outputs": [
    {
     "data": {
      "text/plain": [
       "5220386"
      ]
     },
     "execution_count": 109,
     "metadata": {},
     "output_type": "execute_result"
    }
   ],
   "source": [
    "name"
   ]
  },
  {
   "cell_type": "code",
   "execution_count": 110,
   "id": "7eb23452-f63b-4e6c-b3ad-525964317cea",
   "metadata": {},
   "outputs": [
    {
     "data": {
      "text/plain": [
       "RA          341.484003\n",
       "Dec         -34.601224\n",
       "BPT_Type           AGN\n",
       "z              0.27908\n",
       "logMbh             7.7\n",
       "Name: 5220386, dtype: object"
      ]
     },
     "execution_count": 110,
     "metadata": {},
     "output_type": "execute_result"
    }
   ],
   "source": [
    "row"
   ]
  },
  {
   "cell_type": "code",
   "execution_count": null,
   "id": "6a33d193-a757-4c3c-9d3b-8589efa0b64a",
   "metadata": {},
   "outputs": [],
   "source": []
  }
 ],
 "metadata": {
  "kernelspec": {
   "display_name": "Python 3 (ipykernel)",
   "language": "python",
   "name": "python3"
  },
  "language_info": {
   "codemirror_mode": {
    "name": "ipython",
    "version": 3
   },
   "file_extension": ".py",
   "mimetype": "text/x-python",
   "name": "python",
   "nbconvert_exporter": "python",
   "pygments_lexer": "ipython3",
   "version": "3.10.6"
  }
 },
 "nbformat": 4,
 "nbformat_minor": 5
}
