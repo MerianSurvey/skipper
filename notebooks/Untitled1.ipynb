{
 "cells": [
  {
   "cell_type": "code",
   "execution_count": 1,
   "id": "5c96333c-c400-4425-8f67-a9c889a4e786",
   "metadata": {},
   "outputs": [],
   "source": [
    "%load_ext autoreload\n",
    "%autoreload 2"
   ]
  },
  {
   "cell_type": "code",
   "execution_count": 2,
   "id": "af6a373d-e2fb-4f4c-b8ff-4e817cb0dc21",
   "metadata": {},
   "outputs": [],
   "source": [
    "import numpy as np\n",
    "import matplotlib.pyplot as plt\n",
    "from matplotlib import patches\n",
    "import pandas as pd\n",
    "from astropy import coordinates\n",
    "from astropy import units as u\n",
    "from skipper import observe, planner"
   ]
  },
  {
   "cell_type": "code",
   "execution_count": 3,
   "id": "cb972941-6c2e-4ca7-a93c-29bc5098875a",
   "metadata": {},
   "outputs": [],
   "source": [
    "import sys\n",
    "sys.path.append('../scripts/')"
   ]
  },
  {
   "cell_type": "code",
   "execution_count": 4,
   "id": "32cdc59b-5701-405c-94fd-8ac76d841084",
   "metadata": {},
   "outputs": [],
   "source": [
    "import sigjson_f2022b\n",
    "import our_pointings"
   ]
  },
  {
   "cell_type": "code",
   "execution_count": 5,
   "id": "1bbda4ca-128f-475e-8c3d-37b0785714d9",
   "metadata": {},
   "outputs": [],
   "source": [
    "obsdates = sigjson_f2022b.obsdates"
   ]
  },
  {
   "cell_type": "code",
   "execution_count": 6,
   "id": "b24301d2-ee8c-4711-9d27-f329974db996",
   "metadata": {},
   "outputs": [],
   "source": [
    "obskeys = [ f'{x[0]:02d}-{x[1]:02d}-{x[2]:02d}' for x in obsdates[:,:3]]"
   ]
  },
  {
   "cell_type": "code",
   "execution_count": 7,
   "id": "a6c36549-118a-4811-8e4e-8c56e3aaa8ba",
   "metadata": {},
   "outputs": [],
   "source": [
    "hcat, ocat = our_pointings.load_fallfields ()"
   ]
  },
  {
   "cell_type": "code",
   "execution_count": null,
   "id": "c1a33c01-8b10-4eb3-b747-15796b2d65f9",
   "metadata": {},
   "outputs": [],
   "source": []
  }
 ],
 "metadata": {
  "kernelspec": {
   "display_name": "Python 3 (ipykernel)",
   "language": "python",
   "name": "python3"
  },
  "language_info": {
   "codemirror_mode": {
    "name": "ipython",
    "version": 3
   },
   "file_extension": ".py",
   "mimetype": "text/x-python",
   "name": "python",
   "nbconvert_exporter": "python",
   "pygments_lexer": "ipython3",
   "version": "3.10.4"
  }
 },
 "nbformat": 4,
 "nbformat_minor": 5
}
