{
 "cells": [
  {
   "cell_type": "code",
   "execution_count": 1,
   "metadata": {},
   "outputs": [],
   "source": [
    "%load_ext autoreload\n",
    "%autoreload 2"
   ]
  },
  {
   "cell_type": "code",
   "execution_count": 2,
   "metadata": {},
   "outputs": [],
   "source": [
    "import sys\n",
    "import pytz\n",
    "import datetime\n",
    "import numpy as np\n",
    "import matplotlib.pyplot as plt\n",
    "import pandas as pd\n",
    "from astropy import table\n",
    "from astropy import coordinates\n",
    "from astropy import units as u\n",
    "from astropy.io import fits\n",
    "from skipper import observe, qa\n",
    "from shapely import geometry\n",
    "from shapely.ops import unary_union\n"
   ]
  },
  {
   "cell_type": "code",
   "execution_count": 3,
   "metadata": {},
   "outputs": [],
   "source": [
    "sys.path.append('../scripts/')"
   ]
  },
  {
   "cell_type": "code",
   "execution_count": 4,
   "metadata": {},
   "outputs": [],
   "source": [
    "#import sigjson_s2021a\n",
    "import make_pointings"
   ]
  },
  {
   "cell_type": "code",
   "execution_count": 18,
   "metadata": {},
   "outputs": [],
   "source": [
    "catalog, ocat = make_pointings.build_backup (filter='g')"
   ]
  },
  {
   "cell_type": "code",
   "execution_count": 25,
   "metadata": {},
   "outputs": [],
   "source": [
    "catalog_l, ocat, frd_l = make_pointings.build_backup (filter=filt)"
   ]
  },
  {
   "cell_type": "code",
   "execution_count": 34,
   "metadata": {},
   "outputs": [],
   "source": [
    "# \\\\ COSMOS region\n",
    "center = coordinates.SkyCoord (\"10h00m28.6s+02d12m21.0s\")\n",
    "size =  (1.4, 1.4)\n",
    "\n",
    "edges = [ (center.ra.deg-size[0]/2., center.dec.deg-size[0]/2.),\n",
    "          (center.ra.deg+size[0]/2., center.dec.deg-size[0]/2.),\n",
    "          (center.ra.deg+size[0]/2., center.dec.deg+size[0]/2.),\n",
    "          (center.ra.deg-size[0]/2., center.dec.deg+size[0]/2.) ]\n",
    "cosmos_area = geometry.Polygon ( edges )"
   ]
  },
  {
   "cell_type": "code",
   "execution_count": 60,
   "metadata": {},
   "outputs": [],
   "source": [
    "catalog, ocat, frd = make_pointings.build_cosmos ( return_frd=True)"
   ]
  },
  {
   "cell_type": "code",
   "execution_count": 61,
   "metadata": {
    "scrolled": true
   },
   "outputs": [],
   "source": [
    "%%capture\n",
    "cov_frac = np.zeros(10)\n",
    "frd._make_grid (ngridstep=10, extent=1.25)\n",
    "poly_l, area_a, centers = frd.compute_coverage ( cosmos_area, footprint=frd.decam_fp, rotate=False )\n",
    "for ix in range(len(cov_frac)):\n",
    "    mpoly = unary_union ( poly_l[ix*4:(ix+1)*4] )\n",
    "    cov_frac[ix] = mpoly.intersection(cosmos_area).area / cosmos_area.area"
   ]
  },
  {
   "cell_type": "code",
   "execution_count": 83,
   "metadata": {
    "scrolled": true
   },
   "outputs": [
    {
     "name": "stdout",
     "output_type": "stream",
     "text": [
      "[to_json] Inserting 60s focus exposures\n",
      "0\n",
      "[to_json] Inserting 60s focus exposures\n",
      "0\n",
      "[to_json] Inserting 60s focus exposures\n",
      "0\n",
      "[to_json] Inserting 60s focus exposures\n",
      "0\n",
      "[to_json] Inserting 60s focus exposures\n",
      "1\n",
      "[to_json] Inserting 60s focus exposures\n",
      "1\n",
      "[to_json] Inserting 60s focus exposures\n",
      "1\n",
      "[to_json] Inserting 60s focus exposures\n",
      "1\n",
      "[to_json] Inserting 60s focus exposures\n",
      "2\n",
      "[to_json] Inserting 60s focus exposures\n",
      "2\n",
      "[to_json] Inserting 60s focus exposures\n",
      "0\n",
      "[to_json] Inserting 60s focus exposures\n",
      "0\n",
      "[to_json] Inserting 60s focus exposures\n",
      "0\n",
      "[to_json] Inserting 60s focus exposures\n",
      "0\n",
      "[to_json] Inserting 60s focus exposures\n",
      "1\n",
      "[to_json] Inserting 60s focus exposures\n",
      "1\n",
      "[to_json] Inserting 60s focus exposures\n",
      "1\n",
      "[to_json] Inserting 60s focus exposures\n",
      "1\n",
      "[to_json] Inserting 60s focus exposures\n",
      "2\n",
      "[to_json] Inserting 60s focus exposures\n",
      "2\n"
     ]
    }
   ],
   "source": [
    "catalog, ocat = make_pointings.build_cosmos ( seed=2465646, filter='r', exptime=5.,\n",
    "                                                ndither = 40//5*10)\n",
    "for filt in ['g','r']:\n",
    "    for ij in np.arange(10):\n",
    "        fp = f'../json/backup_scripts/COSMOS_5minAGN_{filt}_{ij//8:02d}.json'\n",
    "        ocat.to_json ( catalog.iloc[8*ij:8*(ij+1)], fp=fp, \n",
    "                       end_with_onemin=False )\n",
    "        print(ij//4)"
   ]
  },
  {
   "cell_type": "code",
   "execution_count": 6,
   "metadata": {},
   "outputs": [
    {
     "data": {
      "text/plain": [
       "40.0"
      ]
     },
     "execution_count": 6,
     "metadata": {},
     "output_type": "execute_result"
    }
   ],
   "source": [
    "60//1.5"
   ]
  },
  {
   "cell_type": "code",
   "execution_count": 7,
   "metadata": {},
   "outputs": [
    {
     "name": "stdout",
     "output_type": "stream",
     "text": [
      "../json/backup_scripts/COSMOS_90secAGN_g_01.json\n",
      "[to_json] Inserting 60s focus exposures\n",
      "../json/backup_scripts/COSMOS_90secAGN_g_02.json\n",
      "[to_json] Inserting 60s focus exposures\n",
      "../json/backup_scripts/COSMOS_90secAGN_g_03.json\n",
      "[to_json] Inserting 60s focus exposures\n",
      "../json/backup_scripts/COSMOS_90secAGN_g_04.json\n",
      "[to_json] Inserting 60s focus exposures\n",
      "../json/backup_scripts/COSMOS_90secAGN_g_05.json\n",
      "[to_json] Inserting 60s focus exposures\n",
      "../json/backup_scripts/COSMOS_90secAGN_g_06.json\n",
      "[to_json] Inserting 60s focus exposures\n",
      "../json/backup_scripts/COSMOS_90secAGN_g_07.json\n",
      "[to_json] Inserting 60s focus exposures\n",
      "../json/backup_scripts/COSMOS_90secAGN_g_08.json\n",
      "[to_json] Inserting 60s focus exposures\n",
      "../json/backup_scripts/COSMOS_90secAGN_g_09.json\n",
      "[to_json] Inserting 60s focus exposures\n",
      "../json/backup_scripts/COSMOS_90secAGN_g_10.json\n",
      "[to_json] Inserting 60s focus exposures\n",
      "../json/backup_scripts/COSMOS_90secAGN_g_11.json\n",
      "[to_json] Inserting 60s focus exposures\n",
      "../json/backup_scripts/COSMOS_90secAGN_g_12.json\n",
      "[to_json] Inserting 60s focus exposures\n",
      "../json/backup_scripts/COSMOS_90secAGN_g_13.json\n",
      "[to_json] Inserting 60s focus exposures\n",
      "../json/backup_scripts/COSMOS_90secAGN_g_14.json\n",
      "[to_json] Inserting 60s focus exposures\n",
      "../json/backup_scripts/COSMOS_90secAGN_g_15.json\n",
      "[to_json] Inserting 60s focus exposures\n",
      "../json/backup_scripts/COSMOS_90secAGN_g_16.json\n",
      "[to_json] Inserting 60s focus exposures\n",
      "../json/backup_scripts/COSMOS_90secAGN_g_17.json\n",
      "[to_json] Inserting 60s focus exposures\n",
      "../json/backup_scripts/COSMOS_90secAGN_g_18.json\n",
      "[to_json] Inserting 60s focus exposures\n",
      "../json/backup_scripts/COSMOS_90secAGN_g_19.json\n",
      "[to_json] Inserting 60s focus exposures\n",
      "../json/backup_scripts/COSMOS_90secAGN_g_20.json\n",
      "[to_json] Inserting 60s focus exposures\n",
      "../json/backup_scripts/COSMOS_90secAGN_r_01.json\n",
      "[to_json] Inserting 60s focus exposures\n",
      "../json/backup_scripts/COSMOS_90secAGN_r_02.json\n",
      "[to_json] Inserting 60s focus exposures\n",
      "../json/backup_scripts/COSMOS_90secAGN_r_03.json\n",
      "[to_json] Inserting 60s focus exposures\n",
      "../json/backup_scripts/COSMOS_90secAGN_r_04.json\n",
      "[to_json] Inserting 60s focus exposures\n",
      "../json/backup_scripts/COSMOS_90secAGN_r_05.json\n",
      "[to_json] Inserting 60s focus exposures\n",
      "../json/backup_scripts/COSMOS_90secAGN_r_06.json\n",
      "[to_json] Inserting 60s focus exposures\n",
      "../json/backup_scripts/COSMOS_90secAGN_r_07.json\n",
      "[to_json] Inserting 60s focus exposures\n",
      "../json/backup_scripts/COSMOS_90secAGN_r_08.json\n",
      "[to_json] Inserting 60s focus exposures\n",
      "../json/backup_scripts/COSMOS_90secAGN_r_09.json\n",
      "[to_json] Inserting 60s focus exposures\n",
      "../json/backup_scripts/COSMOS_90secAGN_r_10.json\n",
      "[to_json] Inserting 60s focus exposures\n",
      "../json/backup_scripts/COSMOS_90secAGN_r_11.json\n",
      "[to_json] Inserting 60s focus exposures\n",
      "../json/backup_scripts/COSMOS_90secAGN_r_12.json\n",
      "[to_json] Inserting 60s focus exposures\n",
      "../json/backup_scripts/COSMOS_90secAGN_r_13.json\n",
      "[to_json] Inserting 60s focus exposures\n",
      "../json/backup_scripts/COSMOS_90secAGN_r_14.json\n",
      "[to_json] Inserting 60s focus exposures\n",
      "../json/backup_scripts/COSMOS_90secAGN_r_15.json\n",
      "[to_json] Inserting 60s focus exposures\n",
      "../json/backup_scripts/COSMOS_90secAGN_r_16.json\n",
      "[to_json] Inserting 60s focus exposures\n",
      "../json/backup_scripts/COSMOS_90secAGN_r_17.json\n",
      "[to_json] Inserting 60s focus exposures\n",
      "../json/backup_scripts/COSMOS_90secAGN_r_18.json\n",
      "[to_json] Inserting 60s focus exposures\n",
      "../json/backup_scripts/COSMOS_90secAGN_r_19.json\n",
      "[to_json] Inserting 60s focus exposures\n",
      "../json/backup_scripts/COSMOS_90secAGN_r_20.json\n",
      "[to_json] Inserting 60s focus exposures\n"
     ]
    }
   ],
   "source": [
    "#catalog, ocat  = make_pointings.build_cosmos (seed=2465646, filter='r', start_at_center=False)\n",
    "for filt in ['g','r']:\n",
    "    catalog_l, ocat, frd = make_pointings.build_backup (seed=24690732, \n",
    "                                                        exptime=1.5,\n",
    "                                                        total_time=60.,\n",
    "                                                        nscripts=20,\n",
    "                                                        filter=filt)\n",
    "\n",
    "    for ij in np.arange(20):\n",
    "        fp = f'../json/backup_scripts/COSMOS_90secAGN_{filt}_{ij+1:02d}.json'\n",
    "        print(fp)\n",
    "        ocat.to_json ( catalog_l[ij], fp=fp, \n",
    "                       end_with_onemin=False )\n",
    "\n"
   ]
  },
  {
   "cell_type": "code",
   "execution_count": 14,
   "metadata": {},
   "outputs": [],
   "source": [
    "src_df = pd.read_csv ('../data/SOAGN.txt', delim_whitespace=True, comment='#', index_col=0)"
   ]
  },
  {
   "cell_type": "code",
   "execution_count": 17,
   "metadata": {},
   "outputs": [],
   "source": [
    "targets = ['NSA15235', 'GH14']\n",
    "catalog_l, ocat, frd = make_pointings.build_SOAGN (targets[0])"
   ]
  },
  {
   "cell_type": "code",
   "execution_count": 35,
   "metadata": {},
   "outputs": [],
   "source": [
    "import os\n",
    "from matplotlib import patches"
   ]
  },
  {
   "cell_type": "code",
   "execution_count": 41,
   "metadata": {},
   "outputs": [
    {
     "data": {
      "text/html": [
       "<div>\n",
       "<style scoped>\n",
       "    .dataframe tbody tr th:only-of-type {\n",
       "        vertical-align: middle;\n",
       "    }\n",
       "\n",
       "    .dataframe tbody tr th {\n",
       "        vertical-align: top;\n",
       "    }\n",
       "\n",
       "    .dataframe thead th {\n",
       "        text-align: right;\n",
       "    }\n",
       "</style>\n",
       "<table border=\"1\" class=\"dataframe\">\n",
       "  <thead>\n",
       "    <tr style=\"text-align: right;\">\n",
       "      <th></th>\n",
       "      <th>RA</th>\n",
       "      <th>Dec</th>\n",
       "      <th>gmag</th>\n",
       "    </tr>\n",
       "    <tr>\n",
       "      <th>ObjectName</th>\n",
       "      <th></th>\n",
       "      <th></th>\n",
       "      <th></th>\n",
       "    </tr>\n",
       "  </thead>\n",
       "  <tbody>\n",
       "    <tr>\n",
       "      <th>NSA15235</th>\n",
       "      <td>220.052925</td>\n",
       "      <td>2.795422</td>\n",
       "      <td>16.66</td>\n",
       "    </tr>\n",
       "    <tr>\n",
       "      <th>GH14</th>\n",
       "      <td>218.710949</td>\n",
       "      <td>3.645162</td>\n",
       "      <td>15.62</td>\n",
       "    </tr>\n",
       "  </tbody>\n",
       "</table>\n",
       "</div>"
      ],
      "text/plain": [
       "                    RA       Dec   gmag\n",
       "ObjectName                             \n",
       "NSA15235    220.052925  2.795422  16.66\n",
       "GH14        218.710949  3.645162  15.62"
      ]
     },
     "execution_count": 41,
     "metadata": {},
     "output_type": "execute_result"
    }
   ],
   "source": [
    "src_df.loc[targets]"
   ]
  },
  {
   "cell_type": "code",
   "execution_count": 39,
   "metadata": {},
   "outputs": [
    {
     "name": "stdout",
     "output_type": "stream",
     "text": [
      "../json/backup_scripts/NSA15235/NSA15235_90secAGN_g_01.json\n",
      "[to_json] Inserting 60s focus exposures\n",
      "../json/backup_scripts/NSA15235/NSA15235_90secAGN_g_02.json\n",
      "[to_json] Inserting 60s focus exposures\n",
      "../json/backup_scripts/NSA15235/NSA15235_90secAGN_g_03.json\n",
      "[to_json] Inserting 60s focus exposures\n",
      "../json/backup_scripts/NSA15235/NSA15235_90secAGN_g_04.json\n",
      "[to_json] Inserting 60s focus exposures\n",
      "../json/backup_scripts/NSA15235/NSA15235_90secAGN_g_05.json\n",
      "[to_json] Inserting 60s focus exposures\n",
      "../json/backup_scripts/NSA15235/NSA15235_90secAGN_g_06.json\n",
      "[to_json] Inserting 60s focus exposures\n",
      "../json/backup_scripts/NSA15235/NSA15235_90secAGN_g_07.json\n",
      "[to_json] Inserting 60s focus exposures\n",
      "../json/backup_scripts/NSA15235/NSA15235_90secAGN_g_08.json\n",
      "[to_json] Inserting 60s focus exposures\n",
      "../json/backup_scripts/NSA15235/NSA15235_90secAGN_g_09.json\n",
      "[to_json] Inserting 60s focus exposures\n",
      "../json/backup_scripts/NSA15235/NSA15235_90secAGN_g_10.json\n",
      "[to_json] Inserting 60s focus exposures\n",
      "../json/backup_scripts/NSA15235/NSA15235_90secAGN_g_11.json\n",
      "[to_json] Inserting 60s focus exposures\n",
      "../json/backup_scripts/NSA15235/NSA15235_90secAGN_g_12.json\n",
      "[to_json] Inserting 60s focus exposures\n",
      "../json/backup_scripts/NSA15235/NSA15235_90secAGN_g_13.json\n",
      "[to_json] Inserting 60s focus exposures\n",
      "../json/backup_scripts/NSA15235/NSA15235_90secAGN_g_14.json\n",
      "[to_json] Inserting 60s focus exposures\n",
      "../json/backup_scripts/NSA15235/NSA15235_90secAGN_g_15.json\n",
      "[to_json] Inserting 60s focus exposures\n",
      "../json/backup_scripts/NSA15235/NSA15235_90secAGN_g_16.json\n",
      "[to_json] Inserting 60s focus exposures\n",
      "../json/backup_scripts/NSA15235/NSA15235_90secAGN_g_17.json\n",
      "[to_json] Inserting 60s focus exposures\n",
      "../json/backup_scripts/NSA15235/NSA15235_90secAGN_g_18.json\n",
      "[to_json] Inserting 60s focus exposures\n",
      "../json/backup_scripts/NSA15235/NSA15235_90secAGN_g_19.json\n",
      "[to_json] Inserting 60s focus exposures\n",
      "../json/backup_scripts/NSA15235/NSA15235_90secAGN_g_20.json\n",
      "[to_json] Inserting 60s focus exposures\n",
      "../json/backup_scripts/GH14/GH14_90secAGN_g_01.json\n",
      "[to_json] Inserting 60s focus exposures\n",
      "../json/backup_scripts/GH14/GH14_90secAGN_g_02.json\n",
      "[to_json] Inserting 60s focus exposures\n",
      "../json/backup_scripts/GH14/GH14_90secAGN_g_03.json\n",
      "[to_json] Inserting 60s focus exposures\n",
      "../json/backup_scripts/GH14/GH14_90secAGN_g_04.json\n",
      "[to_json] Inserting 60s focus exposures\n",
      "../json/backup_scripts/GH14/GH14_90secAGN_g_05.json\n",
      "[to_json] Inserting 60s focus exposures\n",
      "../json/backup_scripts/GH14/GH14_90secAGN_g_06.json\n",
      "[to_json] Inserting 60s focus exposures\n",
      "../json/backup_scripts/GH14/GH14_90secAGN_g_07.json\n",
      "[to_json] Inserting 60s focus exposures\n",
      "../json/backup_scripts/GH14/GH14_90secAGN_g_08.json\n",
      "[to_json] Inserting 60s focus exposures\n",
      "../json/backup_scripts/GH14/GH14_90secAGN_g_09.json\n",
      "[to_json] Inserting 60s focus exposures\n",
      "../json/backup_scripts/GH14/GH14_90secAGN_g_10.json\n",
      "[to_json] Inserting 60s focus exposures\n",
      "../json/backup_scripts/GH14/GH14_90secAGN_g_11.json\n",
      "[to_json] Inserting 60s focus exposures\n",
      "../json/backup_scripts/GH14/GH14_90secAGN_g_12.json\n",
      "[to_json] Inserting 60s focus exposures\n",
      "../json/backup_scripts/GH14/GH14_90secAGN_g_13.json\n",
      "[to_json] Inserting 60s focus exposures\n",
      "../json/backup_scripts/GH14/GH14_90secAGN_g_14.json\n",
      "[to_json] Inserting 60s focus exposures\n",
      "../json/backup_scripts/GH14/GH14_90secAGN_g_15.json\n",
      "[to_json] Inserting 60s focus exposures\n",
      "../json/backup_scripts/GH14/GH14_90secAGN_g_16.json\n",
      "[to_json] Inserting 60s focus exposures\n",
      "../json/backup_scripts/GH14/GH14_90secAGN_g_17.json\n",
      "[to_json] Inserting 60s focus exposures\n",
      "../json/backup_scripts/GH14/GH14_90secAGN_g_18.json\n",
      "[to_json] Inserting 60s focus exposures\n",
      "../json/backup_scripts/GH14/GH14_90secAGN_g_19.json\n",
      "[to_json] Inserting 60s focus exposures\n",
      "../json/backup_scripts/GH14/GH14_90secAGN_g_20.json\n",
      "[to_json] Inserting 60s focus exposures\n"
     ]
    }
   ],
   "source": [
    "#catalog, ocat  = make_pointings.build_cosmos (seed=2465646, filter='r', start_at_center=False)\n",
    "for target in targets:\n",
    "    if not os.path.exists ( f'../json/backup_scripts/{target}'):\n",
    "        os.mkdir ( f'../json/backup_scripts/{target}' )\n",
    "    catalog_l, ocat, frd = make_pointings.build_SOAGN ( target )\n",
    "\n",
    "    for ij in np.arange(20):\n",
    "        fp = f'../json/backup_scripts/{target}/{target}_90secAGN_g_{ij+1:02d}.json'\n",
    "        print(fp)\n",
    "        ocat.to_json ( catalog_l[ij], fp=fp, \n",
    "                       end_with_onemin=False )\n",
    "\n"
   ]
  },
  {
   "cell_type": "code",
   "execution_count": null,
   "metadata": {},
   "outputs": [],
   "source": []
  },
  {
   "cell_type": "code",
   "execution_count": 81,
   "metadata": {},
   "outputs": [
    {
     "name": "stdout",
     "output_type": "stream",
     "text": [
      "[to_json] Inserting 60s focus exposures\n",
      "0\n",
      "[to_json] Inserting 60s focus exposures\n",
      "0\n",
      "[to_json] Inserting 60s focus exposures\n",
      "0\n",
      "[to_json] Inserting 60s focus exposures\n",
      "0\n",
      "[to_json] Inserting 60s focus exposures\n",
      "1\n",
      "[to_json] Inserting 60s focus exposures\n",
      "1\n",
      "[to_json] Inserting 60s focus exposures\n",
      "1\n",
      "[to_json] Inserting 60s focus exposures\n",
      "1\n",
      "[to_json] Inserting 60s focus exposures\n",
      "2\n",
      "[to_json] Inserting 60s focus exposures\n",
      "2\n",
      "[to_json] Inserting 60s focus exposures\n",
      "0\n",
      "[to_json] Inserting 60s focus exposures\n",
      "0\n",
      "[to_json] Inserting 60s focus exposures\n",
      "0\n",
      "[to_json] Inserting 60s focus exposures\n",
      "0\n",
      "[to_json] Inserting 60s focus exposures\n",
      "1\n",
      "[to_json] Inserting 60s focus exposures\n",
      "1\n",
      "[to_json] Inserting 60s focus exposures\n",
      "1\n",
      "[to_json] Inserting 60s focus exposures\n",
      "1\n",
      "[to_json] Inserting 60s focus exposures\n",
      "2\n",
      "[to_json] Inserting 60s focus exposures\n",
      "2\n"
     ]
    }
   ],
   "source": [
    "for filt in ['g','r']:\n",
    "    catalog_l, ocat, frd = make_pointings.build_backup (filter=filt)\n",
    "\n",
    "    for ij in np.arange(10):\n",
    "        fp = f'../json/backup_scripts/COSMOS_5minAGN_{filt}_{ij//8:02d}.json'\n",
    "        ocat.to_json ( catalog_l[ij], fp=fp, \n",
    "                       end_with_onemin=False )\n",
    "        print(ij//4)\n"
   ]
  },
  {
   "cell_type": "code",
   "execution_count": 8,
   "metadata": {},
   "outputs": [
    {
     "data": {
      "text/html": [
       "<div>\n",
       "<style scoped>\n",
       "    .dataframe tbody tr th:only-of-type {\n",
       "        vertical-align: middle;\n",
       "    }\n",
       "\n",
       "    .dataframe tbody tr th {\n",
       "        vertical-align: top;\n",
       "    }\n",
       "\n",
       "    .dataframe thead th {\n",
       "        text-align: right;\n",
       "    }\n",
       "</style>\n",
       "<table border=\"1\" class=\"dataframe\">\n",
       "  <thead>\n",
       "    <tr style=\"text-align: right;\">\n",
       "      <th></th>\n",
       "      <th>comment</th>\n",
       "      <th>filter</th>\n",
       "      <th>seqtot</th>\n",
       "      <th>seqnum</th>\n",
       "      <th>seqid</th>\n",
       "      <th>expType</th>\n",
       "      <th>object</th>\n",
       "      <th>proposer</th>\n",
       "      <th>program</th>\n",
       "      <th>RA</th>\n",
       "      <th>propid</th>\n",
       "      <th>dec</th>\n",
       "      <th>expTime</th>\n",
       "      <th>count</th>\n",
       "      <th>wait</th>\n",
       "    </tr>\n",
       "    <tr>\n",
       "      <th>object</th>\n",
       "      <th></th>\n",
       "      <th></th>\n",
       "      <th></th>\n",
       "      <th></th>\n",
       "      <th></th>\n",
       "      <th></th>\n",
       "      <th></th>\n",
       "      <th></th>\n",
       "      <th></th>\n",
       "      <th></th>\n",
       "      <th></th>\n",
       "      <th></th>\n",
       "      <th></th>\n",
       "      <th></th>\n",
       "      <th></th>\n",
       "    </tr>\n",
       "  </thead>\n",
       "  <tbody>\n",
       "    <tr>\n",
       "      <th>COSMOS_J100028.60+021221.00_g</th>\n",
       "      <td>--</td>\n",
       "      <td>g</td>\n",
       "      <td>40</td>\n",
       "      <td>1</td>\n",
       "      <td>S2021A</td>\n",
       "      <td>object</td>\n",
       "      <td>COSMOS_J100028.60+021221.00_g</td>\n",
       "      <td>Leauthaud</td>\n",
       "      <td>Merian</td>\n",
       "      <td>150.119167</td>\n",
       "      <td>2020B-0288</td>\n",
       "      <td>2.205833</td>\n",
       "      <td>600.0</td>\n",
       "      <td>1</td>\n",
       "      <td>False</td>\n",
       "    </tr>\n",
       "    <tr>\n",
       "      <th>COSMOS_J100029.99+021723.60_g</th>\n",
       "      <td>--</td>\n",
       "      <td>g</td>\n",
       "      <td>40</td>\n",
       "      <td>2</td>\n",
       "      <td>S2021A</td>\n",
       "      <td>object</td>\n",
       "      <td>COSMOS_J100029.99+021723.60_g</td>\n",
       "      <td>Leauthaud</td>\n",
       "      <td>Merian</td>\n",
       "      <td>150.124973</td>\n",
       "      <td>2020B-0288</td>\n",
       "      <td>2.289891</td>\n",
       "      <td>600.0</td>\n",
       "      <td>1</td>\n",
       "      <td>False</td>\n",
       "    </tr>\n",
       "    <tr>\n",
       "      <th>COSMOS_J100040.02+021336.47_g</th>\n",
       "      <td>--</td>\n",
       "      <td>g</td>\n",
       "      <td>40</td>\n",
       "      <td>3</td>\n",
       "      <td>S2021A</td>\n",
       "      <td>object</td>\n",
       "      <td>COSMOS_J100040.02+021336.47_g</td>\n",
       "      <td>Leauthaud</td>\n",
       "      <td>Merian</td>\n",
       "      <td>150.166761</td>\n",
       "      <td>2020B-0288</td>\n",
       "      <td>2.226800</td>\n",
       "      <td>600.0</td>\n",
       "      <td>1</td>\n",
       "      <td>False</td>\n",
       "    </tr>\n",
       "    <tr>\n",
       "      <th>COSMOS_J100007.07+021132.93_g</th>\n",
       "      <td>--</td>\n",
       "      <td>g</td>\n",
       "      <td>40</td>\n",
       "      <td>4</td>\n",
       "      <td>S2021A</td>\n",
       "      <td>object</td>\n",
       "      <td>COSMOS_J100007.07+021132.93_g</td>\n",
       "      <td>Leauthaud</td>\n",
       "      <td>Merian</td>\n",
       "      <td>150.029468</td>\n",
       "      <td>2020B-0288</td>\n",
       "      <td>2.192483</td>\n",
       "      <td>600.0</td>\n",
       "      <td>1</td>\n",
       "      <td>False</td>\n",
       "    </tr>\n",
       "  </tbody>\n",
       "</table>\n",
       "</div>"
      ],
      "text/plain": [
       "                              comment filter  seqtot  seqnum   seqid expType  \\\n",
       "object                                                                         \n",
       "COSMOS_J100028.60+021221.00_g      --      g      40       1  S2021A  object   \n",
       "COSMOS_J100029.99+021723.60_g      --      g      40       2  S2021A  object   \n",
       "COSMOS_J100040.02+021336.47_g      --      g      40       3  S2021A  object   \n",
       "COSMOS_J100007.07+021132.93_g      --      g      40       4  S2021A  object   \n",
       "\n",
       "                                                      object   proposer  \\\n",
       "object                                                                    \n",
       "COSMOS_J100028.60+021221.00_g  COSMOS_J100028.60+021221.00_g  Leauthaud   \n",
       "COSMOS_J100029.99+021723.60_g  COSMOS_J100029.99+021723.60_g  Leauthaud   \n",
       "COSMOS_J100040.02+021336.47_g  COSMOS_J100040.02+021336.47_g  Leauthaud   \n",
       "COSMOS_J100007.07+021132.93_g  COSMOS_J100007.07+021132.93_g  Leauthaud   \n",
       "\n",
       "                              program          RA      propid       dec  \\\n",
       "object                                                                    \n",
       "COSMOS_J100028.60+021221.00_g  Merian  150.119167  2020B-0288  2.205833   \n",
       "COSMOS_J100029.99+021723.60_g  Merian  150.124973  2020B-0288  2.289891   \n",
       "COSMOS_J100040.02+021336.47_g  Merian  150.166761  2020B-0288  2.226800   \n",
       "COSMOS_J100007.07+021132.93_g  Merian  150.029468  2020B-0288  2.192483   \n",
       "\n",
       "                               expTime  count   wait  \n",
       "object                                                \n",
       "COSMOS_J100028.60+021221.00_g    600.0      1  False  \n",
       "COSMOS_J100029.99+021723.60_g    600.0      1  False  \n",
       "COSMOS_J100040.02+021336.47_g    600.0      1  False  \n",
       "COSMOS_J100007.07+021132.93_g    600.0      1  False  "
      ]
     },
     "execution_count": 8,
     "metadata": {},
     "output_type": "execute_result"
    }
   ],
   "source": [
    "ocat.to_json(catalog=catalog.iloc[:4], fp='../backup_scripts/"
   ]
  },
  {
   "cell_type": "code",
   "execution_count": 272,
   "metadata": {},
   "outputs": [
    {
     "data": {
      "text/html": [
       "<div>\n",
       "<style scoped>\n",
       "    .dataframe tbody tr th:only-of-type {\n",
       "        vertical-align: middle;\n",
       "    }\n",
       "\n",
       "    .dataframe tbody tr th {\n",
       "        vertical-align: top;\n",
       "    }\n",
       "\n",
       "    .dataframe thead th {\n",
       "        text-align: right;\n",
       "    }\n",
       "</style>\n",
       "<table border=\"1\" class=\"dataframe\">\n",
       "  <thead>\n",
       "    <tr style=\"text-align: right;\">\n",
       "      <th></th>\n",
       "      <th>comment</th>\n",
       "      <th>filter</th>\n",
       "      <th>seqtot</th>\n",
       "      <th>seqnum</th>\n",
       "      <th>seqid</th>\n",
       "      <th>expType</th>\n",
       "      <th>object</th>\n",
       "      <th>proposer</th>\n",
       "      <th>program</th>\n",
       "      <th>RA</th>\n",
       "      <th>propid</th>\n",
       "      <th>dec</th>\n",
       "      <th>expTime</th>\n",
       "      <th>count</th>\n",
       "      <th>wait</th>\n",
       "    </tr>\n",
       "    <tr>\n",
       "      <th>object</th>\n",
       "      <th></th>\n",
       "      <th></th>\n",
       "      <th></th>\n",
       "      <th></th>\n",
       "      <th></th>\n",
       "      <th></th>\n",
       "      <th></th>\n",
       "      <th></th>\n",
       "      <th></th>\n",
       "      <th></th>\n",
       "      <th></th>\n",
       "      <th></th>\n",
       "      <th></th>\n",
       "      <th></th>\n",
       "      <th></th>\n",
       "    </tr>\n",
       "  </thead>\n",
       "  <tbody>\n",
       "    <tr>\n",
       "      <th>COSMOS_J100034.08+021554.52_N708</th>\n",
       "      <td>--</td>\n",
       "      <td>N708</td>\n",
       "      <td>40</td>\n",
       "      <td>1</td>\n",
       "      <td>S2021A</td>\n",
       "      <td>object</td>\n",
       "      <td>COSMOS_J100034.08+021554.52_N708</td>\n",
       "      <td>Leauthaud</td>\n",
       "      <td>Merian</td>\n",
       "      <td>150.142040</td>\n",
       "      <td>2020B-0288</td>\n",
       "      <td>2.265147</td>\n",
       "      <td>600.0</td>\n",
       "      <td>1</td>\n",
       "      <td>False</td>\n",
       "    </tr>\n",
       "    <tr>\n",
       "      <th>COSMOS_J100007.86+020629.68_N708</th>\n",
       "      <td>--</td>\n",
       "      <td>N708</td>\n",
       "      <td>40</td>\n",
       "      <td>2</td>\n",
       "      <td>S2021A</td>\n",
       "      <td>object</td>\n",
       "      <td>COSMOS_J100007.86+020629.68_N708</td>\n",
       "      <td>Leauthaud</td>\n",
       "      <td>Merian</td>\n",
       "      <td>150.032763</td>\n",
       "      <td>2020B-0288</td>\n",
       "      <td>2.108247</td>\n",
       "      <td>600.0</td>\n",
       "      <td>1</td>\n",
       "      <td>False</td>\n",
       "    </tr>\n",
       "    <tr>\n",
       "      <th>COSMOS_J100010.59+020635.26_N708</th>\n",
       "      <td>--</td>\n",
       "      <td>N708</td>\n",
       "      <td>40</td>\n",
       "      <td>3</td>\n",
       "      <td>S2021A</td>\n",
       "      <td>object</td>\n",
       "      <td>COSMOS_J100010.59+020635.26_N708</td>\n",
       "      <td>Leauthaud</td>\n",
       "      <td>Merian</td>\n",
       "      <td>150.044136</td>\n",
       "      <td>2020B-0288</td>\n",
       "      <td>2.109797</td>\n",
       "      <td>600.0</td>\n",
       "      <td>1</td>\n",
       "      <td>False</td>\n",
       "    </tr>\n",
       "    <tr>\n",
       "      <th>COSMOS_J100027.78+020737.61_N708</th>\n",
       "      <td>--</td>\n",
       "      <td>N708</td>\n",
       "      <td>40</td>\n",
       "      <td>4</td>\n",
       "      <td>S2021A</td>\n",
       "      <td>object</td>\n",
       "      <td>COSMOS_J100027.78+020737.61_N708</td>\n",
       "      <td>Leauthaud</td>\n",
       "      <td>Merian</td>\n",
       "      <td>150.115772</td>\n",
       "      <td>2020B-0288</td>\n",
       "      <td>2.127116</td>\n",
       "      <td>600.0</td>\n",
       "      <td>1</td>\n",
       "      <td>False</td>\n",
       "    </tr>\n",
       "    <tr>\n",
       "      <th>COSMOS_J100010.57+021841.16_N708</th>\n",
       "      <td>--</td>\n",
       "      <td>N708</td>\n",
       "      <td>40</td>\n",
       "      <td>5</td>\n",
       "      <td>S2021A</td>\n",
       "      <td>object</td>\n",
       "      <td>COSMOS_J100010.57+021841.16_N708</td>\n",
       "      <td>Leauthaud</td>\n",
       "      <td>Merian</td>\n",
       "      <td>150.044042</td>\n",
       "      <td>2020B-0288</td>\n",
       "      <td>2.311436</td>\n",
       "      <td>600.0</td>\n",
       "      <td>1</td>\n",
       "      <td>False</td>\n",
       "    </tr>\n",
       "  </tbody>\n",
       "</table>\n",
       "</div>"
      ],
      "text/plain": [
       "                                 comment filter  seqtot  seqnum   seqid  \\\n",
       "object                                                                    \n",
       "COSMOS_J100034.08+021554.52_N708      --   N708      40       1  S2021A   \n",
       "COSMOS_J100007.86+020629.68_N708      --   N708      40       2  S2021A   \n",
       "COSMOS_J100010.59+020635.26_N708      --   N708      40       3  S2021A   \n",
       "COSMOS_J100027.78+020737.61_N708      --   N708      40       4  S2021A   \n",
       "COSMOS_J100010.57+021841.16_N708      --   N708      40       5  S2021A   \n",
       "\n",
       "                                 expType                            object  \\\n",
       "object                                                                       \n",
       "COSMOS_J100034.08+021554.52_N708  object  COSMOS_J100034.08+021554.52_N708   \n",
       "COSMOS_J100007.86+020629.68_N708  object  COSMOS_J100007.86+020629.68_N708   \n",
       "COSMOS_J100010.59+020635.26_N708  object  COSMOS_J100010.59+020635.26_N708   \n",
       "COSMOS_J100027.78+020737.61_N708  object  COSMOS_J100027.78+020737.61_N708   \n",
       "COSMOS_J100010.57+021841.16_N708  object  COSMOS_J100010.57+021841.16_N708   \n",
       "\n",
       "                                   proposer program          RA      propid  \\\n",
       "object                                                                        \n",
       "COSMOS_J100034.08+021554.52_N708  Leauthaud  Merian  150.142040  2020B-0288   \n",
       "COSMOS_J100007.86+020629.68_N708  Leauthaud  Merian  150.032763  2020B-0288   \n",
       "COSMOS_J100010.59+020635.26_N708  Leauthaud  Merian  150.044136  2020B-0288   \n",
       "COSMOS_J100027.78+020737.61_N708  Leauthaud  Merian  150.115772  2020B-0288   \n",
       "COSMOS_J100010.57+021841.16_N708  Leauthaud  Merian  150.044042  2020B-0288   \n",
       "\n",
       "                                       dec  expTime  count   wait  \n",
       "object                                                             \n",
       "COSMOS_J100034.08+021554.52_N708  2.265147    600.0      1  False  \n",
       "COSMOS_J100007.86+020629.68_N708  2.108247    600.0      1  False  \n",
       "COSMOS_J100010.59+020635.26_N708  2.109797    600.0      1  False  \n",
       "COSMOS_J100027.78+020737.61_N708  2.127116    600.0      1  False  \n",
       "COSMOS_J100010.57+021841.16_N708  2.311436    600.0      1  False  "
      ]
     },
     "execution_count": 272,
     "metadata": {},
     "output_type": "execute_result"
    }
   ],
   "source": [
    "ec2.head()"
   ]
  },
  {
   "cell_type": "code",
   "execution_count": 227,
   "metadata": {},
   "outputs": [],
   "source": [
    "ctio = observe.ObservingSite ()\n",
    "day = 8\n",
    "obs_start, twibeg = ctio.get_sunriseset ( 2021, 3, day )\n",
    "obs_end = obs_start + 0.5*(twibeg-obs_start)"
   ]
  },
  {
   "cell_type": "code",
   "execution_count": 232,
   "metadata": {
    "scrolled": true
   },
   "outputs": [
    {
     "name": "stdout",
     "output_type": "stream",
     "text": [
      "2021-03-09 04:00:00\n",
      "\n",
      "==> 20210309_00, 3000.0000000000073s available\n",
      "0.0s filled by priority=0.0 objects\n",
      "!!! Nothing to queue !!!\n",
      "\n",
      "==> 20210309_01, 3600.0s available\n",
      "0.0s filled by priority=0.0 objects\n",
      "!!! Nothing to queue !!!\n",
      "\n",
      "==> 20210309_02, 3600.0s available\n",
      "0.0s filled by priority=0.0 objects\n",
      "!!! Nothing to queue !!!\n",
      "\n",
      "==> 20210309_03, 3600.0s available\n",
      "3600.0s filled by priority=0.0 objects\n",
      "[to_json] Inserting 60s focus exposures\n"
     ]
    },
    {
     "name": "stderr",
     "output_type": "stream",
     "text": [
      "/Users/kadofong/work/merian/skipper/python/skipper/observe.py:358: UserWarning: Queue empty at 20210309_00\n",
      "  elif avail_queue_time > catalog['expTime'].mean():\n",
      "/Users/kadofong/work/merian/skipper/python/skipper/observe.py:358: UserWarning: Queue empty at 20210309_01\n",
      "  elif avail_queue_time > catalog['expTime'].mean():\n",
      "/Users/kadofong/work/merian/skipper/python/skipper/observe.py:358: UserWarning: Queue empty at 20210309_02\n",
      "  elif avail_queue_time > catalog['expTime'].mean():\n"
     ]
    },
    {
     "name": "stdout",
     "output_type": "stream",
     "text": [
      "QA COMPLETE: All tests passed\n",
      "2021-03-09 05:30:00\n",
      "2021-03-09 04:53:30\n",
      "\n",
      "==> 20210309_04, 4409.99999999998s available\n",
      "0.0s filled by priority=0.0 objects\n",
      "!!! Nothing to queue !!!\n"
     ]
    },
    {
     "name": "stderr",
     "output_type": "stream",
     "text": [
      "/Users/kadofong/work/merian/skipper/python/skipper/observe.py:358: UserWarning: Queue empty at 20210309_04\n",
      "  elif avail_queue_time > catalog['expTime'].mean():\n"
     ]
    }
   ],
   "source": [
    "is_queued_ec2 = ocat.plan_night ( obs_start, ctio, catalog=extra_cosmos, obs_end=obs_end,\n",
    "                                   checksky_at_start=False,\n",
    "                                   maxairmass=1.2, object_priority=priorities, save=True, prefix='extracosmos_' )"
   ]
  },
  {
   "cell_type": "code",
   "execution_count": 225,
   "metadata": {},
   "outputs": [],
   "source": [
    "ec2, eocat = make_pointings.build_cosmos ( 267667 )"
   ]
  },
  {
   "cell_type": "code",
   "execution_count": 226,
   "metadata": {},
   "outputs": [
    {
     "data": {
      "text/plain": [
       "40"
      ]
     },
     "execution_count": 226,
     "metadata": {},
     "output_type": "execute_result"
    }
   ],
   "source": [
    "len(ec2.index.intersection(extra_cosmos.index))"
   ]
  },
  {
   "cell_type": "code",
   "execution_count": 221,
   "metadata": {},
   "outputs": [],
   "source": [
    "mastercat = sigjson_s2021a.load_mastercat ()"
   ]
  },
  {
   "cell_type": "code",
   "execution_count": 224,
   "metadata": {},
   "outputs": [],
   "source": [
    "assert len(mastercat.index.intersection(extra_cosmos.index)) == 0"
   ]
  },
  {
   "cell_type": "code",
   "execution_count": 3,
   "metadata": {},
   "outputs": [],
   "source": [
    "fmt = '%Y/%m/%d %I:%M %p'\n",
    "et = pytz.timezone(\"America/New_York\")"
   ]
  },
  {
   "cell_type": "code",
   "execution_count": 140,
   "metadata": {},
   "outputs": [],
   "source": [
    "# \\\\ load DB\n",
    "copilot = table.Table(fits.getdata('/Users/kadofong/Downloads/db_merian.fits',1)).to_pandas ()\n",
    "copilot_new = table.Table(fits.getdata('/Users/kadofong/Downloads/db_merian2.fits',1)).to_pandas ()\n",
    "tele = pd.read_csv('/Users/kadofong/Downloads/execute')"
   ]
  },
  {
   "cell_type": "code",
   "execution_count": 141,
   "metadata": {},
   "outputs": [],
   "source": [
    "# \\\\ load S2021A exposures\n",
    "mastercat = pd.read_csv (\"../pointings/S2021A.csv\",)\n",
    "mastercat = mastercat.set_index('object.1')\n",
    "mastercat['wait'] = \"False\""
   ]
  },
  {
   "cell_type": "code",
   "execution_count": 142,
   "metadata": {},
   "outputs": [],
   "source": [
    "#mastercat.to_csv('/Users/kadofong/Downloads/S2021A.csv.backup')"
   ]
  },
  {
   "cell_type": "code",
   "execution_count": 143,
   "metadata": {},
   "outputs": [],
   "source": [
    "exp_exposures = tele.query('(exptime>599.)&(object!=\"G09\")').shape[0]\n",
    "has_observed = np.in1d(mastercat['object'], tele['object'])\n",
    "assert has_observed.sum() == exp_exposures"
   ]
  },
  {
   "cell_type": "code",
   "execution_count": 144,
   "metadata": {},
   "outputs": [],
   "source": [
    "is_merian = np.in1d(copilot['object'], mastercat['object'])"
   ]
  },
  {
   "cell_type": "code",
   "execution_count": 90,
   "metadata": {},
   "outputs": [],
   "source": [
    "ocat = observe.ObsCatalog(comment='--', proposer='Leathaud', propid='2020B-0288', seqid='S2021A')"
   ]
  },
  {
   "cell_type": "code",
   "execution_count": 155,
   "metadata": {},
   "outputs": [],
   "source": [
    "grid, fgrid, sun_alt = ctio.get_sunriseset ( 2021, 3, 6, alt=-10. )"
   ]
  },
  {
   "cell_type": "code",
   "execution_count": 162,
   "metadata": {},
   "outputs": [],
   "source": [
    "import datetime"
   ]
  },
  {
   "cell_type": "code",
   "execution_count": 163,
   "metadata": {},
   "outputs": [],
   "source": [
    "tgrid = [ gg.value.timestamp"
   ]
  },
  {
   "cell_type": "code",
   "execution_count": 166,
   "metadata": {},
   "outputs": [
    {
     "data": {
      "text/plain": [
       "datetime.datetime(2021, 3, 6, 15, 0)"
      ]
     },
     "execution_count": 166,
     "metadata": {},
     "output_type": "execute_result"
    }
   ],
   "source": [
    "datetime.datetime.fromtimestamp ( gg.value.timestamp () )"
   ]
  },
  {
   "cell_type": "code",
   "execution_count": 191,
   "metadata": {},
   "outputs": [],
   "source": [
    "fgrid_jd = np.asarray([ gg.jd1 for\tgg in fgrid ])\n",
    "grid_jd\t= np.asarray([ gg.jd1 for gg in grid ])"
   ]
  },
  {
   "cell_type": "code",
   "execution_count": 185,
   "metadata": {},
   "outputs": [
    {
     "data": {
      "text/plain": [
       "<Time object: scale='utc' format='jd' value=2459280.0>"
      ]
     },
     "execution_count": 185,
     "metadata": {},
     "output_type": "execute_result"
    }
   ],
   "source": [
    "observe.Time(gg.jd1, format='jd')"
   ]
  },
  {
   "cell_type": "code",
   "execution_count": 203,
   "metadata": {},
   "outputs": [
    {
     "data": {
      "text/plain": [
       "1615043400.0"
      ]
     },
     "execution_count": 203,
     "metadata": {},
     "output_type": "execute_result"
    }
   ],
   "source": [
    "grid[1].unix"
   ]
  },
  {
   "cell_type": "code",
   "execution_count": 204,
   "metadata": {
    "scrolled": true
   },
   "outputs": [
    {
     "data": {
      "text/plain": [
       "[<matplotlib.lines.Line2D at 0x1461ba0b8>]"
      ]
     },
     "execution_count": 204,
     "metadata": {},
     "output_type": "execute_result"
    },
    {
     "data": {
      "image/png": "[encoded data removed]",
      "text/plain": [
       "<Figure size 432x288 with 1 Axes>"
      ]
     },
     "metadata": {
      "needs_background": "light"
     },
     "output_type": "display_data"
    }
   ],
   "source": [
    "plt.plot([ gg.unix for gg in grid], sun_alt)"
   ]
  },
  {
   "cell_type": "code",
   "execution_count": 213,
   "metadata": {},
   "outputs": [
    {
     "name": "stdout",
     "output_type": "stream",
     "text": [
      "START: 2021/03/06 11:54 PM UTC; 2021/03/06 06:54 PM ET\n",
      "MID:   2021/03/07 04:54 AM UTC; 2021/03/06 11:54 PM ET\n",
      "END:   2021/03/07 09:55 AM UTC; 2021/03/07 04:55 AM ET\n",
      "CPU times: user 3.53 s, sys: 55.3 ms, total: 3.59 s\n",
      "Wall time: 3.69 s\n"
     ]
    }
   ],
   "source": [
    "%%time\n",
    "sunset, sunrise = ctio.get_sunriseset ( 2021, 3, 6, alt=-10. )\n",
    "middle = sunset + 0.5*(sunrise-sunset)\n",
    "\n",
    "print(f'START: {sunset.strftime(fmt)} UTC; {sunset.astimezone(et).strftime(fmt)} ET')\n",
    "print(f'MID:   {middle.strftime(fmt)} UTC; {middle.astimezone(et).strftime(fmt)} ET')\n",
    "print(f'END:   {sunrise.strftime(fmt)} UTC; {sunrise.astimezone(et).strftime(fmt)} ET')"
   ]
  },
  {
   "cell_type": "code",
   "execution_count": 93,
   "metadata": {},
   "outputs": [],
   "source": [
    "is_queued = pd.DataFrame ( index=mastercat.index, columns=['is_queued','qstamp','has_priority'])\n",
    "is_queued['is_queued'] = False\n",
    "is_queued.loc[has_observed, 'is_queued'] = True"
   ]
  },
  {
   "cell_type": "code",
   "execution_count": 94,
   "metadata": {
    "scrolled": true
   },
   "outputs": [],
   "source": [
    "# \\\\ Define the observatory site -- default is CTIO\n",
    "ctio = observe.ObservingSite ()\n",
    "priorities = {'COSMOS':0, 'GAMA':1}"
   ]
  },
  {
   "cell_type": "code",
   "execution_count": 96,
   "metadata": {
    "scrolled": false
   },
   "outputs": [
    {
     "name": "stdout",
     "output_type": "stream",
     "text": [
      "obsStart: 2021/03/06 09:18 PM Santiago\n",
      "          2021/03/06 07:18 PM ET\n",
      "          2021/03/07 12:18 AM UTC\n",
      "obsEnd:   2021/03/07 01:57 AM Santiago\n",
      "          2021/03/06 11:57 PM ET\n",
      "          2021/03/07 04:57 AM UTC\n",
      "2021-03-07 04:00:00\n",
      "==> 20210307_00, 2520.000000000004s available\n",
      "0.0s filled by priority=0.0 objects\n",
      "2400.0s filled by priority=1.0 objects\n",
      "[to_json] Inserting 60s focus exposures\n",
      "[to_json] Inserting CheckSky 60s exposures\n",
      "QA COMPLETE: All tests passed\n",
      "==> 20210307_01, 3600.0s available\n",
      "3600.0s filled by priority=0.0 objects\n",
      "0.0s filled by priority=1.0 objects\n",
      "[to_json] Inserting 60s focus exposures\n",
      "[to_json] Big slew from GAMA_J084129.87-004559.69_N708 to COSMOS_J100021.44+021535.51_N708\n",
      "Warning: Airmass of 1.53 in exposure 1 of file ../json/20210306/20210307_01.json\n",
      "==> 20210307_02, 3600.0s available\n",
      "3600.0s filled by priority=0.0 objects\n",
      "0.0s filled by priority=1.0 objects\n",
      "[to_json] Inserting 60s focus exposures\n",
      "QA COMPLETE: All tests passed\n",
      "==> 20210307_03, 3600.0s available\n",
      "3600.0s filled by priority=0.0 objects\n",
      "0.0s filled by priority=1.0 objects\n",
      "[to_json] Inserting 60s focus exposures\n",
      "QA COMPLETE: All tests passed\n",
      "2021-03-07 05:30:00\n",
      "2021-03-07 04:57:00\n",
      "==> 20210307_04, 3419.9999999999745s available\n",
      "1200.0s filled by priority=0.0 objects\n",
      "1800.0s filled by priority=1.0 objects\n",
      "[to_json] Inserting 60s focus exposures\n",
      "[to_json] Big slew from COSMOS_J100031.85+021756.84_N708 to GAMA_J103033.86-010006.74_N708\n",
      "QA COMPLETE: All tests passed\n"
     ]
    }
   ],
   "source": [
    "obs_start, twibeg = ctio.get_sunriseset ( 2021, 3, 6 )\n",
    "obs_end = obs_start + 0.5*(twibeg-obs_start)\n",
    "\n",
    "print(f\"obsStart: {obs_start.astimezone(ctio.timezone).strftime(fmt)} Santiago\")\n",
    "print(f\"          {obs_start.astimezone(et).strftime(fmt)} ET\")\n",
    "print(f\"          {obs_start.strftime(fmt)} UTC\")\n",
    "print(f\"obsEnd:   {obs_end.astimezone(ctio.timezone).strftime(fmt)} Santiago\")\n",
    "print(f\"          {obs_end.astimezone(et).strftime(fmt)} ET\")\n",
    "print(f\"          {obs_end.strftime(fmt)} UTC\")\n",
    "\n",
    "is_queued_tmrw = ocat.plan_night ( obs_start, ctio, catalog=mastercat, obs_end=obs_end,\n",
    "                                 is_queued=is_queued.copy(),\n",
    "                                 maxairmass=1.5, object_priority=priorities, save=False )"
   ]
  },
  {
   "cell_type": "code",
   "execution_count": 132,
   "metadata": {},
   "outputs": [
    {
     "data": {
      "text/plain": [
       "5.666666666666667"
      ]
     },
     "execution_count": 132,
     "metadata": {},
     "output_type": "execute_result"
    }
   ],
   "source": [
    "(3420. - (1200.+1880.))/60."
   ]
  },
  {
   "cell_type": "code",
   "execution_count": 129,
   "metadata": {},
   "outputs": [
    {
     "name": "stdout",
     "output_type": "stream",
     "text": [
      "obsStart: 2021/03/06 09:13 PM Santiago\n",
      "          2021/03/06 07:13 PM ET\n",
      "          2021/03/07 12:13 AM UTC\n",
      "obsEnd:   2021/03/07 01:54 AM Santiago\n",
      "          2021/03/06 11:54 PM ET\n",
      "          2021/03/07 04:54 AM UTC\n"
     ]
    }
   ],
   "source": [
    "obs_start, twibeg = ctio.get_sunriseset ( 2021, 3, 6 )\n",
    "obs_end = obs_start + 0.5*(twibeg-obs_start)\n",
    "\n",
    "print(f\"obsStart: {obs_start.astimezone(ctio.timezone).strftime(fmt)} Santiago\")\n",
    "print(f\"          {obs_start.astimezone(et).strftime(fmt)} ET\")\n",
    "print(f\"          {obs_start.strftime(fmt)} UTC\")\n",
    "print(f\"obsEnd:   {obs_end.astimezone(ctio.timezone).strftime(fmt)} Santiago\")\n",
    "print(f\"          {obs_end.astimezone(et).strftime(fmt)} ET\")\n",
    "print(f\"          {obs_end.strftime(fmt)} UTC\")"
   ]
  },
  {
   "cell_type": "code",
   "execution_count": null,
   "metadata": {},
   "outputs": [],
   "source": []
  }
 ],
 "metadata": {
  "kernelspec": {
   "display_name": "Python 3",
   "language": "python",
   "name": "python3"
  },
  "language_info": {
   "codemirror_mode": {
    "name": "ipython",
    "version": 3
   },
   "file_extension": ".py",
   "mimetype": "text/x-python",
   "name": "python",
   "nbconvert_exporter": "python",
   "pygments_lexer": "ipython3",
   "version": "3.7.0"
  }
 },
 "nbformat": 4,
 "nbformat_minor": 2
}
