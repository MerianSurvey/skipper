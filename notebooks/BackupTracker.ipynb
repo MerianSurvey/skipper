{
 "cells": [
  {
   "cell_type": "code",
   "execution_count": 1,
   "metadata": {},
   "outputs": [],
   "source": [
    "%load_ext autoreload\n",
    "%autoreload 2"
   ]
  },
  {
   "cell_type": "code",
   "execution_count": 35,
   "metadata": {},
   "outputs": [],
   "source": [
    "import numpy as np\n",
    "import matplotlib.pyplot as plt\n",
    "from skipper import observe\n",
    "from astropy import coordinates\n",
    "\n",
    "import sys\n",
    "sys.path.append('../scripts/')\n",
    "from sigjson_f2021b import *"
   ]
  },
  {
   "cell_type": "code",
   "execution_count": 16,
   "metadata": {},
   "outputs": [],
   "source": [
    "backup_fields = ['SXDS','COSMOS']\n",
    "backup_centers = [coordinates.SkyCoord (\"35.739030633438745 -4.7489828727193775\", unit='deg'),\n",
    "                  coordinates.SkyCoord (\"10h00m28.6s+02d12m21.0s\") ]"
   ]
  },
  {
   "cell_type": "code",
   "execution_count": 6,
   "metadata": {},
   "outputs": [],
   "source": [
    "year,month,day = 2021,9,10"
   ]
  },
  {
   "cell_type": "code",
   "execution_count": 10,
   "metadata": {},
   "outputs": [],
   "source": [
    "mfilt, field, slot = whichfield (year,month,day)"
   ]
  },
  {
   "cell_type": "code",
   "execution_count": 11,
   "metadata": {},
   "outputs": [],
   "source": [
    "ctio = observe.ObservingSite ()"
   ]
  },
  {
   "cell_type": "code",
   "execution_count": 12,
   "metadata": {},
   "outputs": [
    {
     "name": "stdout",
     "output_type": "stream",
     "text": [
      "True night end is:\n",
      "obsEnd:   2021/09/11 06:45 AM Santiago\n",
      "          2021/09/11 09:45 AM UTC\n",
      "Updated night end is:\n",
      "obsEnd:   2021/09/11 06:05 AM Santiago\n",
      "          2021/09/11 09:05 AM UTC\n"
     ]
    }
   ],
   "source": [
    "night_start, night_end = ctio.get_sunriseset ( year, month, day, cut_at_contract=True )"
   ]
  },
  {
   "cell_type": "code",
   "execution_count": 13,
   "metadata": {},
   "outputs": [
    {
     "name": "stdout",
     "output_type": "stream",
     "text": [
      "[predict] night slot: Second half\n"
     ]
    }
   ],
   "source": [
    "if slot == 0:\n",
    "    print('[predict] night slot: Full night')\n",
    "    obs_start = night_start\n",
    "    obs_end = night_end\n",
    "elif slot == 1:\n",
    "    print('[predict] night slot: First half')\n",
    "    obs_start = night_start\n",
    "    obs_end = obs_start + 0.5*(night_end-obs_start)\n",
    "else:\n",
    "    print('[predict] night slot: Second half')\n",
    "    obs_start = night_start + 0.5*(night_end-night_start)\n",
    "    obs_end = night_end "
   ]
  },
  {
   "cell_type": "code",
   "execution_count": 19,
   "metadata": {},
   "outputs": [],
   "source": [
    "obsframe = ctio.define_obsframe ( obs_start=obs_start, obs_end=obs_end )"
   ]
  },
  {
   "cell_type": "code",
   "execution_count": 20,
   "metadata": {},
   "outputs": [],
   "source": [
    "alt_l = [ ctio.get_altitude(cc, obsframe) for cc in backup_centers]"
   ]
  },
  {
   "cell_type": "code",
   "execution_count": 23,
   "metadata": {},
   "outputs": [],
   "source": [
    "ix=0\n",
    "htime = alt_l[0][ix].obstime.datetime    "
   ]
  },
  {
   "cell_type": "code",
   "execution_count": 39,
   "metadata": {},
   "outputs": [
    {
     "data": {
      "text/plain": [
       "(2.0, 1.0)"
      ]
     },
     "execution_count": 39,
     "metadata": {},
     "output_type": "execute_result"
    },
    {
     "data": {
      "image/png": "[encoded data removed]",
      "text/plain": [
       "<Figure size 432x288 with 1 Axes>"
      ]
     },
     "metadata": {
      "needs_background": "light"
     },
     "output_type": "display_data"
    }
   ],
   "source": [
    "for iw in range(len(backup_centers)):\n",
    "    fname = backup_fields[iw]\n",
    "    plt.plot ( [alt_l[iw][ix].obstime.datetime for ix in range(len(alt_l[iw]))], alt_l[iw].secz,'o',\n",
    "              label=fname\n",
    "             )\n",
    "plt.legend()\n",
    "plt.ylim(2.,1.)"
   ]
  },
  {
   "cell_type": "code",
   "execution_count": 51,
   "metadata": {},
   "outputs": [
    {
     "name": "stdout",
     "output_type": "stream",
     "text": [
      "time (UTC)\t\tSXDS\tCOSMOS\t\n",
      "2021/09/11 04:30 AM\t1.65\t-1.18\t\n",
      "2021/09/11 05:30 AM\t1.32\t-1.33\t\n",
      "2021/09/11 06:30 AM\t1.17\t-1.64\t\n",
      "2021/09/11 07:30 AM\t1.11\t-2.35\t\n",
      "2021/09/11 08:30 AM\t1.13\t-4.66\t\n",
      "2021/09/11 09:30 AM\t1.23\t94.53\t\n"
     ]
    }
   ],
   "source": [
    "dtime = [ alt_l[iw][ix].obstime.datetime for ix in range(len(alt_l[iw]))]\n",
    "hd = 'time (UTC)\\t\\t'\n",
    "for iw in range(len(backup_centers)):\n",
    "    hd = f'{hd}{backup_fields[iw]}\\t'\n",
    "print(hd)    \n",
    "for iv in range(len(dtime)):\n",
    "    dt = dtime[iv]\n",
    "    st = f'{dt.strftime(fmt)}\\t'\n",
    "    for iw in range(len(backup_centers)):\n",
    "        fname = backup_fields[iw]\n",
    "        airmass = alt_l[iw].secz[iv]\n",
    "        st = f'{st}{airmass:.2f}\\t'\n",
    "    print(st)"
   ]
  },
  {
   "cell_type": "code",
   "execution_count": 54,
   "metadata": {},
   "outputs": [
    {
     "name": "stdout",
     "output_type": "stream",
     "text": [
      " .   . \n",
      " {\\*/} \n",
      "  >!<  BACKUP FIELD INFO\n",
      " (/^\\) \n",
      " '   ' \n"
     ]
    }
   ],
   "source": [
    "bfly = open('../resources/bfly.txt','r').read()\n",
    "print(bfly)"
   ]
  },
  {
   "cell_type": "code",
   "execution_count": 57,
   "metadata": {},
   "outputs": [],
   "source": [
    "tele_fname = '/Users/kadofong/Downloads/tele20210317.csv'\n",
    "tele = load_telemetry ( tele_fname )"
   ]
  },
  {
   "cell_type": "code",
   "execution_count": 59,
   "metadata": {},
   "outputs": [
    {
     "data": {
      "text/plain": [
       "0                                                  G09\n",
       "1                                                  G09\n",
       "2                                                  G09\n",
       "3      GAMA_J083742.61+023654.55_N708_1minexp_checksky\n",
       "4      GAMA_J083742.61+023654.55_N708_1minexp_checksky\n",
       "5      GAMA_J083742.61+023654.55_N708_1minexp_checksky\n",
       "6               GAMA_J083742.61+023654.55_N708_1minexp\n",
       "7                       GAMA_J083742.61+023654.55_N708\n",
       "8                       GAMA_J083853.27+023328.79_N708\n",
       "9                       GAMA_J085148.38-004417.47_N708\n",
       "10                      GAMA_J085258.92-004635.42_N708\n",
       "11                      GAMA_J085409.45-004854.65_N708\n",
       "12            COSMOS_J100007.53+020921.98_N708_1minexp\n",
       "13                    COSMOS_J100007.53+020921.98_N708\n",
       "14                    COSMOS_J100022.90+020659.07_N708\n",
       "15                    COSMOS_J100022.19+020744.83_N708\n",
       "16                    COSMOS_J100013.36+021048.38_N708\n",
       "17                    COSMOS_J100005.83+021146.51_N708\n",
       "18            COSMOS_J100012.50+020734.61_N708_1minexp\n",
       "19                    COSMOS_J100012.50+020734.61_N708\n",
       "20            COSMOS_J100019.59+021041.93_N708_1minexp\n",
       "21                    COSMOS_J100019.59+021041.93_N708\n",
       "22                    COSMOS_J100043.09+020744.83_N708\n",
       "23                    COSMOS_J100035.26+020855.38_N708\n",
       "24            COSMOS_J100047.02+020832.20_N708_1minexp\n",
       "25                    COSMOS_J100047.02+020832.20_N708\n",
       "26                    COSMOS_J100030.24+021054.46_N708\n",
       "27                    COSMOS_J100039.15+020723.10_N708\n",
       "28            COSMOS_J100028.60+021221.00_N708_1minexp\n",
       "29                    COSMOS_J100028.60+021221.00_N708\n",
       "                            ...                       \n",
       "319                     GAMA_J091910.15+040417.63_N708\n",
       "320                     GAMA_J092020.98+040015.83_N708\n",
       "321                                        1minexp_000\n",
       "322                      COSMOS_J100041.42+020732.45_r\n",
       "323                      COSMOS_J100033.53+021456.64_r\n",
       "324                      COSMOS_J100017.60+021814.47_r\n",
       "325                      COSMOS_J100017.63+021022.51_r\n",
       "326                     GAMA_J093125.94+021831.62_N708\n",
       "327                     GAMA_J092243.18+035511.78_N708\n",
       "328                     GAMA_J092132.09+035744.35_N708\n",
       "329                     GAMA_J093236.82+021554.96_N708\n",
       "330                     GAMA_J093535.70+022328.18_N708\n",
       "331                     GAMA_J093646.14+021914.23_N708\n",
       "332                     GAMA_J093757.02+021636.03_N708\n",
       "333                     GAMA_J093907.89+021356.84_N708\n",
       "334                     GAMA_J094859.44+003537.97_N708\n",
       "335                     GAMA_J095204.96+004354.49_N708\n",
       "336                     GAMA_J095315.07+003929.65_N708\n",
       "337                     GAMA_J095425.77+003645.51_N708\n",
       "338                     GAMA_J095536.46+003400.51_N708\n",
       "339                     GAMA_J095844.88+004227.92_N708\n",
       "340                     GAMA_J095954.99+003759.06_N708\n",
       "341                                        1minexp_000\n",
       "342                     GAMA_J104915.56+002505.78_N708\n",
       "343                     GAMA_J105026.22+002207.69_N708\n",
       "344                     GAMA_J103953.32+003406.56_N708\n",
       "345                     GAMA_J104103.37+002918.06_N708\n",
       "346                     GAMA_J103514.91+002733.59_N708\n",
       "347                     GAMA_J103625.58+002437.90_N708\n",
       "348                      COSMOS_J100040.61+021003.01_r\n",
       "Name: object, Length: 349, dtype: object"
      ]
     },
     "execution_count": 59,
     "metadata": {},
     "output_type": "execute_result"
    }
   ],
   "source": [
    "tele['object']"
   ]
  },
  {
   "cell_type": "code",
   "execution_count": 79,
   "metadata": {},
   "outputs": [],
   "source": [
    "iu = 2"
   ]
  },
  {
   "cell_type": "code",
   "execution_count": 80,
   "metadata": {},
   "outputs": [],
   "source": [
    "json = pd.read_json(f'../json/backup_scripts/COSMOS_AGN_g_{iu:02d}.json')"
   ]
  },
  {
   "cell_type": "code",
   "execution_count": 81,
   "metadata": {},
   "outputs": [
    {
     "data": {
      "text/plain": [
       "array([ True, False, False, False, False])"
      ]
     },
     "execution_count": 81,
     "metadata": {},
     "output_type": "execute_result"
    }
   ],
   "source": [
    "np.in1d(json['object'], tele['object'])"
   ]
  },
  {
   "cell_type": "code",
   "execution_count": 82,
   "metadata": {},
   "outputs": [
    {
     "data": {
      "text/html": [
       "<div>\n",
       "<style scoped>\n",
       "    .dataframe tbody tr th:only-of-type {\n",
       "        vertical-align: middle;\n",
       "    }\n",
       "\n",
       "    .dataframe tbody tr th {\n",
       "        vertical-align: top;\n",
       "    }\n",
       "\n",
       "    .dataframe thead th {\n",
       "        text-align: right;\n",
       "    }\n",
       "</style>\n",
       "<table border=\"1\" class=\"dataframe\">\n",
       "  <thead>\n",
       "    <tr style=\"text-align: right;\">\n",
       "      <th></th>\n",
       "      <th>RA</th>\n",
       "      <th>comment</th>\n",
       "      <th>count</th>\n",
       "      <th>dec</th>\n",
       "      <th>expTime</th>\n",
       "      <th>expType</th>\n",
       "      <th>filter</th>\n",
       "      <th>object</th>\n",
       "      <th>program</th>\n",
       "      <th>propid</th>\n",
       "      <th>proposer</th>\n",
       "      <th>seqid</th>\n",
       "      <th>seqnum</th>\n",
       "      <th>seqtot</th>\n",
       "      <th>wait</th>\n",
       "    </tr>\n",
       "  </thead>\n",
       "  <tbody>\n",
       "    <tr>\n",
       "      <th>0</th>\n",
       "      <td>150.142345</td>\n",
       "      <td>OneMinuteFocusExposure</td>\n",
       "      <td>1</td>\n",
       "      <td>2.204383</td>\n",
       "      <td>60</td>\n",
       "      <td>object</td>\n",
       "      <td>g</td>\n",
       "      <td>1minexp_000</td>\n",
       "      <td>Merian</td>\n",
       "      <td>2020B-0288</td>\n",
       "      <td>Leauthaud</td>\n",
       "      <td>S2021A</td>\n",
       "      <td>1</td>\n",
       "      <td>5</td>\n",
       "      <td>False</td>\n",
       "    </tr>\n",
       "    <tr>\n",
       "      <th>1</th>\n",
       "      <td>150.142345</td>\n",
       "      <td>--</td>\n",
       "      <td>1</td>\n",
       "      <td>2.204383</td>\n",
       "      <td>600</td>\n",
       "      <td>object</td>\n",
       "      <td>g</td>\n",
       "      <td>COSMOS_J100034.16+021215.77_g</td>\n",
       "      <td>Merian</td>\n",
       "      <td>2020B-0288</td>\n",
       "      <td>Leauthaud</td>\n",
       "      <td>S2021A</td>\n",
       "      <td>2</td>\n",
       "      <td>5</td>\n",
       "      <td>False</td>\n",
       "    </tr>\n",
       "    <tr>\n",
       "      <th>2</th>\n",
       "      <td>150.039056</td>\n",
       "      <td>--</td>\n",
       "      <td>1</td>\n",
       "      <td>2.175702</td>\n",
       "      <td>600</td>\n",
       "      <td>object</td>\n",
       "      <td>g</td>\n",
       "      <td>COSMOS_J100009.37+021032.52_g</td>\n",
       "      <td>Merian</td>\n",
       "      <td>2020B-0288</td>\n",
       "      <td>Leauthaud</td>\n",
       "      <td>S2021A</td>\n",
       "      <td>3</td>\n",
       "      <td>5</td>\n",
       "      <td>False</td>\n",
       "    </tr>\n",
       "    <tr>\n",
       "      <th>3</th>\n",
       "      <td>150.117298</td>\n",
       "      <td>--</td>\n",
       "      <td>1</td>\n",
       "      <td>2.307379</td>\n",
       "      <td>600</td>\n",
       "      <td>object</td>\n",
       "      <td>g</td>\n",
       "      <td>COSMOS_J100028.15+021826.56_g</td>\n",
       "      <td>Merian</td>\n",
       "      <td>2020B-0288</td>\n",
       "      <td>Leauthaud</td>\n",
       "      <td>S2021A</td>\n",
       "      <td>4</td>\n",
       "      <td>5</td>\n",
       "      <td>False</td>\n",
       "    </tr>\n",
       "    <tr>\n",
       "      <th>4</th>\n",
       "      <td>150.094188</td>\n",
       "      <td>--</td>\n",
       "      <td>1</td>\n",
       "      <td>2.265376</td>\n",
       "      <td>600</td>\n",
       "      <td>object</td>\n",
       "      <td>g</td>\n",
       "      <td>COSMOS_J100022.60+021555.35_g</td>\n",
       "      <td>Merian</td>\n",
       "      <td>2020B-0288</td>\n",
       "      <td>Leauthaud</td>\n",
       "      <td>S2021A</td>\n",
       "      <td>5</td>\n",
       "      <td>5</td>\n",
       "      <td>False</td>\n",
       "    </tr>\n",
       "  </tbody>\n",
       "</table>\n",
       "</div>"
      ],
      "text/plain": [
       "           RA                 comment  count       dec  expTime expType  \\\n",
       "0  150.142345  OneMinuteFocusExposure      1  2.204383       60  object   \n",
       "1  150.142345                      --      1  2.204383      600  object   \n",
       "2  150.039056                      --      1  2.175702      600  object   \n",
       "3  150.117298                      --      1  2.307379      600  object   \n",
       "4  150.094188                      --      1  2.265376      600  object   \n",
       "\n",
       "  filter                         object program      propid   proposer  \\\n",
       "0      g                    1minexp_000  Merian  2020B-0288  Leauthaud   \n",
       "1      g  COSMOS_J100034.16+021215.77_g  Merian  2020B-0288  Leauthaud   \n",
       "2      g  COSMOS_J100009.37+021032.52_g  Merian  2020B-0288  Leauthaud   \n",
       "3      g  COSMOS_J100028.15+021826.56_g  Merian  2020B-0288  Leauthaud   \n",
       "4      g  COSMOS_J100022.60+021555.35_g  Merian  2020B-0288  Leauthaud   \n",
       "\n",
       "    seqid  seqnum  seqtot   wait  \n",
       "0  S2021A       1       5  False  \n",
       "1  S2021A       2       5  False  \n",
       "2  S2021A       3       5  False  \n",
       "3  S2021A       4       5  False  \n",
       "4  S2021A       5       5  False  "
      ]
     },
     "execution_count": 82,
     "metadata": {},
     "output_type": "execute_result"
    }
   ],
   "source": [
    "json"
   ]
  },
  {
   "cell_type": "code",
   "execution_count": null,
   "metadata": {},
   "outputs": [],
   "source": []
  }
 ],
 "metadata": {
  "kernelspec": {
   "display_name": "Python 3",
   "language": "python",
   "name": "python3"
  },
  "language_info": {
   "codemirror_mode": {
    "name": "ipython",
    "version": 3
   },
   "file_extension": ".py",
   "mimetype": "text/x-python",
   "name": "python",
   "nbconvert_exporter": "python",
   "pygments_lexer": "ipython3",
   "version": "3.7.0"
  }
 },
 "nbformat": 4,
 "nbformat_minor": 2
}
