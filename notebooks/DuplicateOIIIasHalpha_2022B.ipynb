{
 "cells": [
  {
   "cell_type": "markdown",
   "id": "ea65f27d-7e99-4559-bc85-92a65620fd27",
   "metadata": {},
   "source": [
    "# Duplicate an observing script from N540 $\\rightarrow$ N708"
   ]
  },
  {
   "cell_type": "code",
   "execution_count": 1,
   "id": "5c96333c-c400-4425-8f67-a9c889a4e786",
   "metadata": {},
   "outputs": [],
   "source": [
    "%load_ext autoreload\n",
    "%autoreload 2"
   ]
  },
  {
   "cell_type": "code",
   "execution_count": 17,
   "id": "af6a373d-e2fb-4f4c-b8ff-4e817cb0dc21",
   "metadata": {},
   "outputs": [],
   "source": [
    "import glob\n",
    "import numpy as np\n",
    "import matplotlib.pyplot as plt\n",
    "from matplotlib import patches\n",
    "import pandas as pd\n",
    "from astropy import coordinates\n",
    "from astropy import units as u\n",
    "from skipper import observe, planner"
   ]
  },
  {
   "cell_type": "code",
   "execution_count": 3,
   "id": "cb972941-6c2e-4ca7-a93c-29bc5098875a",
   "metadata": {},
   "outputs": [],
   "source": [
    "import sys\n",
    "sys.path.append('../scripts/')"
   ]
  },
  {
   "cell_type": "code",
   "execution_count": 4,
   "id": "32cdc59b-5701-405c-94fd-8ac76d841084",
   "metadata": {},
   "outputs": [],
   "source": [
    "import sigjson_f2022b\n",
    "import our_pointings"
   ]
  },
  {
   "cell_type": "code",
   "execution_count": 5,
   "id": "1bbda4ca-128f-475e-8c3d-37b0785714d9",
   "metadata": {},
   "outputs": [],
   "source": [
    "obsdates = sigjson_f2022b.obsdates"
   ]
  },
  {
   "cell_type": "code",
   "execution_count": 6,
   "id": "b24301d2-ee8c-4711-9d27-f329974db996",
   "metadata": {},
   "outputs": [],
   "source": [
    "obskeys = [ f'{x[0]:02d}-{x[1]:02d}-{x[2]:02d}' for x in obsdates[:,:3]]"
   ]
  },
  {
   "cell_type": "code",
   "execution_count": 7,
   "id": "a6c36549-118a-4811-8e4e-8c56e3aaa8ba",
   "metadata": {},
   "outputs": [],
   "source": [
    "hcat, ocat = our_pointings.load_fallfields ()"
   ]
  },
  {
   "cell_type": "code",
   "execution_count": 47,
   "id": "ac4c4d93-6e28-4004-8935-3bfd97b696a5",
   "metadata": {},
   "outputs": [
    {
     "name": "stdout",
     "output_type": "stream",
     "text": [
      "23.7 ms ± 3.03 ms per loop (mean ± std. dev. of 7 runs, 100 loops each)\n"
     ]
    }
   ],
   "source": [
    "%%timeit\n",
    "# \\\\ load N708 pointings\n",
    "halpha_locations = coordinates.SkyCoord( hcat['RA'], hcat['dec'], unit=('deg','deg'))\n"
   ]
  },
  {
   "cell_type": "code",
   "execution_count": 14,
   "id": "c1a33c01-8b10-4eb3-b747-15796b2d65f9",
   "metadata": {},
   "outputs": [],
   "source": [
    "# load nightly scripts from OIII\n",
    "idx=0\n",
    "year,month,day,_ = sigjson_f2022b.obsdates[sigjson_f2022b.obsfilters=='N540', :-1][idx]\n",
    "datekey = f'{year}{month:02d}{day:02d}'"
   ]
  },
  {
   "cell_type": "code",
   "execution_count": 23,
   "id": "0ced15e7-7d97-4f3d-9e82-cd1fbf144b58",
   "metadata": {},
   "outputs": [],
   "source": [
    "odir = f'../json/{datekey}/'"
   ]
  },
  {
   "cell_type": "code",
   "execution_count": 25,
   "id": "e5ec0e5d-2bae-4563-9d5e-98d88eca0019",
   "metadata": {},
   "outputs": [],
   "source": [
    "json_scripts = glob.glob(odir+'*json')"
   ]
  },
  {
   "cell_type": "code",
   "execution_count": 27,
   "id": "7c534a2e-8d1b-48e7-bb7b-4f962f56fa80",
   "metadata": {},
   "outputs": [],
   "source": [
    "script_index=0\n",
    "\n"
   ]
  },
  {
   "cell_type": "code",
   "execution_count": 46,
   "id": "fa921240-6d31-4357-a38b-a03c1875c7a1",
   "metadata": {},
   "outputs": [
    {
     "data": {
      "text/plain": [
       "'../json/20220920/20220921_09.json'"
      ]
     },
     "execution_count": 46,
     "metadata": {},
     "output_type": "execute_result"
    }
   ],
   "source": [
    "json_scripts[0]"
   ]
  },
  {
   "cell_type": "code",
   "execution_count": 42,
   "id": "5c573d63-c562-4c83-ba92-8a3ddba71df7",
   "metadata": {},
   "outputs": [],
   "source": [
    "\n",
    "    jscript = pd.read_json(json_scripts[script_index])\n",
    "    planned_oiii_obscoords = coordinates.SkyCoord( jscript['RA'], \n",
    "                                                   jscript['dec'], \n",
    "                                                   unit=('deg','deg'))\n",
    "    # \\\\ match via coordinates\n",
    "    matchids, sep, _ = planned_oiii_obscoords.match_to_catalog_sky ( halpha_locations )\n",
    "    matches = sep < 0.05*u.arcsec\n",
    "\n",
    "    assert matches.sum() == len(planned_oiii_obscoords)\n",
    "\n",
    "    match_indices = hcat.index[matchids[matches]]\n",
    "\n",
    "    dummy_obscat = observe.ObsCatalog ( propid='2020B-0288', seqid='2022B')\n",
    "\n",
    "    dummy_obscat.to_json ( hcat.reindex(match_indices), fp='/Users/kadofong/Downloads/test.json', insert_checksky_exposures=False)"
   ]
  },
  {
   "cell_type": "code",
   "execution_count": null,
   "id": "3c201e90-c79d-48fe-a47f-2b11df93dc5b",
   "metadata": {},
   "outputs": [],
   "source": []
  }
 ],
 "metadata": {
  "kernelspec": {
   "display_name": "Python 3 (ipykernel)",
   "language": "python",
   "name": "python3"
  },
  "language_info": {
   "codemirror_mode": {
    "name": "ipython",
    "version": 3
   },
   "file_extension": ".py",
   "mimetype": "text/x-python",
   "name": "python",
   "nbconvert_exporter": "python",
   "pygments_lexer": "ipython3",
   "version": "3.10.4"
  }
 },
 "nbformat": 4,
 "nbformat_minor": 5
}
