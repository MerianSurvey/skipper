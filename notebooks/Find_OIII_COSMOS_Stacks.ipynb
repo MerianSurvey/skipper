{
 "cells": [
  {
   "cell_type": "markdown",
   "metadata": {},
   "source": [
    "# Identify exposures to go into COSMOS coadds"
   ]
  },
  {
   "cell_type": "code",
   "execution_count": 2,
   "metadata": {},
   "outputs": [],
   "source": [
    "import sys\n",
    "sys.path.append('../scripts')"
   ]
  },
  {
   "cell_type": "code",
   "execution_count": 3,
   "metadata": {},
   "outputs": [],
   "source": [
    "import numpy as np\n",
    "import matplotlib.pyplot as plt\n",
    "import pandas as pd\n",
    "from skipper import observe\n",
    "import sigjson_s2022a"
   ]
  },
  {
   "cell_type": "code",
   "execution_count": 4,
   "metadata": {},
   "outputs": [],
   "source": [
    "_, oiii_pointings = sigjson_s2022a.load_mastercat ()"
   ]
  },
  {
   "cell_type": "code",
   "execution_count": 5,
   "metadata": {},
   "outputs": [],
   "source": [
    "coo = observe.CopilotOutput ( '../../DataLogs/db_merian.fits', oiii_pointings, skySB_0=22.1 )"
   ]
  },
  {
   "cell_type": "code",
   "execution_count": 9,
   "metadata": {},
   "outputs": [],
   "source": [
    "in_cosmos = coo.merian_sidecar.apply(lambda x: 'COSMOS' in x['object'], axis=1 )"
   ]
  },
  {
   "cell_type": "code",
   "execution_count": 20,
   "metadata": {},
   "outputs": [],
   "source": [
    "relevant_columns = ['filename','exptime','mjd_obs','airmass','racenter','deccenter',\n",
    "                    'rabore','decbore','band','zeropoint','transparency','seeing','sky',\n",
    "                    'dx','dy','object','t_eff']"
   ]
  },
  {
   "cell_type": "code",
   "execution_count": 37,
   "metadata": {},
   "outputs": [],
   "source": [
    "# \\\\ all COSMOS OIII pointings, except the t_eff < 300s exposure(s)\n",
    "oiii_cosmos = coo.merian_sidecar.loc[in_cosmos].query('t_eff>300.')\n",
    "assert oiii_cosmos.shape[0] == 40\n",
    "# \\\\ DEEP : all pointings\n",
    "deep = oiii_cosmos[relevant_columns]\n",
    "# \\\\ BEST : 4 highest t_eff\n",
    "best = oiii_cosmos.sort_values('t_eff', ascending=False).iloc[:4][relevant_columns]\n",
    "# \\\\ WIDE : 4 with t_eff closest to median\n",
    "wide = oiii_cosmos.reindex(abs(oiii_cosmos['t_eff'] - np.median(oiii_cosmos['t_eff'])).sort_values ().index[:4])"
   ]
  },
  {
   "cell_type": "code",
   "execution_count": 38,
   "metadata": {},
   "outputs": [],
   "source": [
    "for name in ['deep','best','wide']:    \n",
    "    globals()[name].to_csv(f'~/Downloads/oiii_cosmos_{name}.csv')"
   ]
  },
  {
   "cell_type": "code",
   "execution_count": null,
   "metadata": {},
   "outputs": [],
   "source": []
  }
 ],
 "metadata": {
  "kernelspec": {
   "display_name": "Python 3",
   "language": "python",
   "name": "python3"
  },
  "language_info": {
   "codemirror_mode": {
    "name": "ipython",
    "version": 3
   },
   "file_extension": ".py",
   "mimetype": "text/x-python",
   "name": "python",
   "nbconvert_exporter": "python",
   "pygments_lexer": "ipython3",
   "version": "3.7.0"
  }
 },
 "nbformat": 4,
 "nbformat_minor": 2
}
